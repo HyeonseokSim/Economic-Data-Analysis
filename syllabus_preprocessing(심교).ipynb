{
 "cells": [
  {
   "cell_type": "code",
   "execution_count": 111,
   "id": "df1927fc-7e41-494e-9f88-b874ae378e89",
   "metadata": {},
   "outputs": [],
   "source": [
    "import pandas as pd\n",
    "import numpy as np\n",
    "import ast\n",
    "import matplotlib.pyplot as plt"
   ]
  },
  {
   "cell_type": "code",
   "execution_count": 83,
   "id": "5e6eb485-db5f-4a6f-b53a-63b32d87795f",
   "metadata": {},
   "outputs": [],
   "source": [
    "df = pd.read_csv('강의계획서_심교.csv',encoding='cp949')"
   ]
  },
  {
   "cell_type": "code",
   "execution_count": 84,
   "id": "89aa0b53-2d53-4959-a72f-7dfd2408af55",
   "metadata": {},
   "outputs": [
    {
     "data": {
      "text/html": [
       "<div>\n",
       "<style scoped>\n",
       "    .dataframe tbody tr th:only-of-type {\n",
       "        vertical-align: middle;\n",
       "    }\n",
       "\n",
       "    .dataframe tbody tr th {\n",
       "        vertical-align: top;\n",
       "    }\n",
       "\n",
       "    .dataframe thead th {\n",
       "        text-align: right;\n",
       "    }\n",
       "</style>\n",
       "<table border=\"1\" class=\"dataframe\">\n",
       "  <thead>\n",
       "    <tr style=\"text-align: right;\">\n",
       "      <th></th>\n",
       "      <th>연도</th>\n",
       "      <th>과목번호</th>\n",
       "      <th>원어여부</th>\n",
       "      <th>비고</th>\n",
       "      <th>수강신청유의사항</th>\n",
       "      <th>과제비율</th>\n",
       "      <th>교재</th>\n",
       "      <th>과제내용</th>\n",
       "      <th>과제수</th>\n",
       "      <th>주별강의계획서</th>\n",
       "      <th>중간고사</th>\n",
       "      <th>기말고사</th>\n",
       "    </tr>\n",
       "  </thead>\n",
       "  <tbody>\n",
       "    <tr>\n",
       "      <th>0</th>\n",
       "      <td>2022</td>\n",
       "      <td>1501</td>\n",
       "      <td>영어</td>\n",
       "      <td>원어강의(영어)</td>\n",
       "      <td>Regular attendance and participation is required.</td>\n",
       "      <td>{'출석률': 10.0, '중간고사비율': 25.0, '기말고사비율': 25.0, ...</td>\n",
       "      <td>{1: '주교재', 2: 'Prism 4 Reading', 3: 'Jessica W...</td>\n",
       "      <td>{1: 'Midterm Presentation', 2: '20221014', 3: ...</td>\n",
       "      <td>2</td>\n",
       "      <td>{1: '08/29 ~ 09/03', 2: 'Introduction', 3: 'Co...</td>\n",
       "      <td>{'주제': 'Midterm Exam', '강의내용': 'Midterm Exam',...</td>\n",
       "      <td>{'주제': 'Final Exam', '강의내용': 'Final Exam', '수업...</td>\n",
       "    </tr>\n",
       "    <tr>\n",
       "      <th>1</th>\n",
       "      <td>2022</td>\n",
       "      <td>1502</td>\n",
       "      <td></td>\n",
       "      <td>토론식 강의</td>\n",
       "      <td>본 강의는 토론식 수업으로 수업 중 일부가 토론 형태로 진행됩니다.\\n★ 토론식 수...</td>\n",
       "      <td>{'출석률': 15.0, '중간고사비율': 25.0, '기말고사비율': 30.0, ...</td>\n",
       "      <td>{1: '주교재', 2: '인간관계의 심리학 (젊은이를 위한)', 3: '권석만',...</td>\n",
       "      <td>{1: '서평(또는 독후감)', 2: '', 3: '', 4: '보물지도 만들기',...</td>\n",
       "      <td>2</td>\n",
       "      <td>{1: '08/29 ~ 09/03', 2: 'Orientation', 3: '- 강...</td>\n",
       "      <td>{'주제': '중간고사', '강의내용': '- 중간고사', '수업유형': '', '...</td>\n",
       "      <td>{'주제': '기말고사', '강의내용': '- 기말고사', '수업유형': '', '...</td>\n",
       "    </tr>\n",
       "    <tr>\n",
       "      <th>2</th>\n",
       "      <td>2022</td>\n",
       "      <td>1503</td>\n",
       "      <td></td>\n",
       "      <td></td>\n",
       "      <td>1. 이 강의는 수강생의 성실성이 요구됩니다. 신중히 수강신청하세요.\\n2. 지각 ...</td>\n",
       "      <td>{'출석률': 10.0, '중간고사비율': 35.0, '기말고사비율': 35.0, ...</td>\n",
       "      <td>{1: '참고문헌', 2: '논리는 나의 힘 (생각의 힘을 길러 주는 논리 학습의 ...</td>\n",
       "      <td>{1: '진리표에 관하여', 2: '', 3: '', 4: '벤다이어그램에 관하여'...</td>\n",
       "      <td>2</td>\n",
       "      <td>{1: '08/29 ~ 09/03', 2: '강의 내용과 진행 소개', 3: '강의...</td>\n",
       "      <td>{'주제': '중간고사', '강의내용': '시험', '수업유형': '대면시험', '...</td>\n",
       "      <td>{'주제': '학기말고사', '강의내용': '시험', '수업유형': '대면시험', ...</td>\n",
       "    </tr>\n",
       "  </tbody>\n",
       "</table>\n",
       "</div>"
      ],
      "text/plain": [
       "     연도  과목번호 원어여부        비고  \\\n",
       "0  2022  1501   영어  원어강의(영어)   \n",
       "1  2022  1502         토론식 강의   \n",
       "2  2022  1503                  \n",
       "\n",
       "                                            수강신청유의사항  \\\n",
       "0  Regular attendance and participation is required.   \n",
       "1  본 강의는 토론식 수업으로 수업 중 일부가 토론 형태로 진행됩니다.\\n★ 토론식 수...   \n",
       "2  1. 이 강의는 수강생의 성실성이 요구됩니다. 신중히 수강신청하세요.\\n2. 지각 ...   \n",
       "\n",
       "                                                과제비율  \\\n",
       "0  {'출석률': 10.0, '중간고사비율': 25.0, '기말고사비율': 25.0, ...   \n",
       "1  {'출석률': 15.0, '중간고사비율': 25.0, '기말고사비율': 30.0, ...   \n",
       "2  {'출석률': 10.0, '중간고사비율': 35.0, '기말고사비율': 35.0, ...   \n",
       "\n",
       "                                                  교재  \\\n",
       "0  {1: '주교재', 2: 'Prism 4 Reading', 3: 'Jessica W...   \n",
       "1  {1: '주교재', 2: '인간관계의 심리학 (젊은이를 위한)', 3: '권석만',...   \n",
       "2  {1: '참고문헌', 2: '논리는 나의 힘 (생각의 힘을 길러 주는 논리 학습의 ...   \n",
       "\n",
       "                                                과제내용  과제수  \\\n",
       "0  {1: 'Midterm Presentation', 2: '20221014', 3: ...    2   \n",
       "1  {1: '서평(또는 독후감)', 2: '', 3: '', 4: '보물지도 만들기',...    2   \n",
       "2  {1: '진리표에 관하여', 2: '', 3: '', 4: '벤다이어그램에 관하여'...    2   \n",
       "\n",
       "                                             주별강의계획서  \\\n",
       "0  {1: '08/29 ~ 09/03', 2: 'Introduction', 3: 'Co...   \n",
       "1  {1: '08/29 ~ 09/03', 2: 'Orientation', 3: '- 강...   \n",
       "2  {1: '08/29 ~ 09/03', 2: '강의 내용과 진행 소개', 3: '강의...   \n",
       "\n",
       "                                                중간고사  \\\n",
       "0  {'주제': 'Midterm Exam', '강의내용': 'Midterm Exam',...   \n",
       "1  {'주제': '중간고사', '강의내용': '- 중간고사', '수업유형': '', '...   \n",
       "2  {'주제': '중간고사', '강의내용': '시험', '수업유형': '대면시험', '...   \n",
       "\n",
       "                                                기말고사  \n",
       "0  {'주제': 'Final Exam', '강의내용': 'Final Exam', '수업...  \n",
       "1  {'주제': '기말고사', '강의내용': '- 기말고사', '수업유형': '', '...  \n",
       "2  {'주제': '학기말고사', '강의내용': '시험', '수업유형': '대면시험', ...  "
      ]
     },
     "execution_count": 84,
     "metadata": {},
     "output_type": "execute_result"
    }
   ],
   "source": [
    "df.head(3)"
   ]
  },
  {
   "cell_type": "code",
   "execution_count": 85,
   "id": "3a5d2b90-6ff8-43e2-8a09-b761b3e45ec1",
   "metadata": {},
   "outputs": [
    {
     "data": {
      "text/plain": [
       "(569, 12)"
      ]
     },
     "execution_count": 85,
     "metadata": {},
     "output_type": "execute_result"
    }
   ],
   "source": [
    "df.shape"
   ]
  },
  {
   "cell_type": "code",
   "execution_count": 86,
   "id": "1823cfc3-1bfd-4fa8-bfe1-2787655b4b23",
   "metadata": {},
   "outputs": [
    {
     "data": {
      "text/html": [
       "<div>\n",
       "<style scoped>\n",
       "    .dataframe tbody tr th:only-of-type {\n",
       "        vertical-align: middle;\n",
       "    }\n",
       "\n",
       "    .dataframe tbody tr th {\n",
       "        vertical-align: top;\n",
       "    }\n",
       "\n",
       "    .dataframe thead th {\n",
       "        text-align: right;\n",
       "    }\n",
       "</style>\n",
       "<table border=\"1\" class=\"dataframe\">\n",
       "  <thead>\n",
       "    <tr style=\"text-align: right;\">\n",
       "      <th></th>\n",
       "      <th>연도</th>\n",
       "      <th>과목번호</th>\n",
       "      <th>원어여부</th>\n",
       "      <th>비고</th>\n",
       "      <th>수강신청유의사항</th>\n",
       "      <th>과제비율</th>\n",
       "      <th>교재</th>\n",
       "      <th>과제내용</th>\n",
       "      <th>과제수</th>\n",
       "      <th>주별강의계획서</th>\n",
       "      <th>중간고사</th>\n",
       "      <th>기말고사</th>\n",
       "    </tr>\n",
       "  </thead>\n",
       "  <tbody>\n",
       "  </tbody>\n",
       "</table>\n",
       "</div>"
      ],
      "text/plain": [
       "Empty DataFrame\n",
       "Columns: [연도, 과목번호, 원어여부, 비고, 수강신청유의사항, 과제비율, 교재, 과제내용, 과제수, 주별강의계획서, 중간고사, 기말고사]\n",
       "Index: []"
      ]
     },
     "execution_count": 86,
     "metadata": {},
     "output_type": "execute_result"
    }
   ],
   "source": [
    "df[df['수강신청유의사항'] == '#NAME?']"
   ]
  },
  {
   "cell_type": "markdown",
   "id": "f596c002-62bd-4801-902b-dec343db8d81",
   "metadata": {},
   "source": [
    "- 원어강의 여부\n",
    "- 선수과목 존재 여부\n",
    "- 조별과제 존재 여부\n",
    "- 과제 개수\n",
    "- 시험 과제대체 여부\n",
    "- 패논패 여부"
   ]
  },
  {
   "cell_type": "code",
   "execution_count": 90,
   "id": "029de92e-3fd7-4de5-a81f-3c588c13c28a",
   "metadata": {},
   "outputs": [],
   "source": [
    "df.rename(columns={'과제비율':'평가비율'},inplace=True)"
   ]
  },
  {
   "cell_type": "code",
   "execution_count": 91,
   "id": "ad29fc60-e51c-49c6-895e-31bba16d2818",
   "metadata": {},
   "outputs": [],
   "source": [
    "# 딕셔너리로 저장된 데이터를 str에서 딕셔너리로 변환\n",
    "def convert_to_dictionary(x):\n",
    "    try:\n",
    "        return ast.literal_eval(x)\n",
    "    except Exception:\n",
    "        return x"
   ]
  },
  {
   "cell_type": "code",
   "execution_count": 92,
   "id": "95a5950c-c07d-4c35-9306-5489a05cdd61",
   "metadata": {},
   "outputs": [],
   "source": [
    "df['평가비율'] = df['평가비율'].apply(convert_to_dictionary)\n",
    "df['교재'] = df['교재'].apply(convert_to_dictionary)\n",
    "df['과제내용'] = df['과제내용'].apply(convert_to_dictionary)\n",
    "df['주별강의계획서'] = df['주별강의계획서'].apply(convert_to_dictionary)\n",
    "df['중간고사'] = df['중간고사'].apply(convert_to_dictionary)\n",
    "df['기말고사'] = df['기말고사'].apply(convert_to_dictionary)"
   ]
  },
  {
   "cell_type": "markdown",
   "id": "94703bc3-db48-4f3e-afa4-f5acf8ac7a3e",
   "metadata": {},
   "source": [
    "### 선수과목 존재 여부"
   ]
  },
  {
   "cell_type": "code",
   "execution_count": 93,
   "id": "25fe373e-0ff1-499c-bf15-afc847890a2c",
   "metadata": {},
   "outputs": [],
   "source": [
    "# 결측치 처리\n",
    "df['비고'] = df['비고'].fillna('')\n",
    "df['수강신청유의사항'] = df['수강신청유의사항'].fillna('')"
   ]
  },
  {
   "cell_type": "code",
   "execution_count": 94,
   "id": "c1902618-52d2-4562-adec-1f4a0021e969",
   "metadata": {},
   "outputs": [],
   "source": [
    "keywords = ['선수과목', '선이수', '이수요망', '이수자만', 'prerequisite']\n",
    "no_keywords = ['선수과목이필', '선수과목은필', '선수과목은없', 'keytheories', 'Noprerequisite']\n",
    "\n",
    "def filter_text(raw_text):\n",
    "    # 텍스트 내 공백 제거\n",
    "    text = raw_text.replace(\" \", \"\")\n",
    "    # 키워드 포함 여부 확인\n",
    "    contains_keyword = any(keyword in text for keyword in keywords)\n",
    "    # 제외 키워드 포함 여부 확인\n",
    "    contains_no_keyword = any(no_keyword in text for no_keyword in no_keywords)\n",
    "    # 조건에 따라 T/F 반환\n",
    "    return contains_keyword and not contains_no_keyword\n",
    "\n",
    "# DataFrame에 두 컬럼에 대해 조건 적용\n",
    "df['선수과목존재여부'] = df.apply(\n",
    "    lambda row: 1 if (filter_text(row['비고']) or filter_text(row['수강신청유의사항'])) else 0, \n",
    "    axis=1\n",
    ")"
   ]
  },
  {
   "cell_type": "code",
   "execution_count": 95,
   "id": "778ceabf-cc98-4c74-a3be-7c34a6ae3b1c",
   "metadata": {},
   "outputs": [
    {
     "data": {
      "text/plain": [
       "선수과목존재여부\n",
       "0    568\n",
       "1      1\n",
       "Name: count, dtype: int64"
      ]
     },
     "execution_count": 95,
     "metadata": {},
     "output_type": "execute_result"
    }
   ],
   "source": [
    "df.선수과목존재여부.value_counts()"
   ]
  },
  {
   "cell_type": "markdown",
   "id": "3d9a7d1d-88b6-4503-98f7-f119c4764dce",
   "metadata": {},
   "source": [
    "### 조별과제 존재 여부"
   ]
  },
  {
   "cell_type": "code",
   "execution_count": 96,
   "id": "081aedae-375c-44a6-af79-e72a3820961c",
   "metadata": {},
   "outputs": [],
   "source": [
    "# 평가비율이 기재되지 않은 경우 검색\n",
    "for i in range(len(df)):\n",
    "    try:\n",
    "        df['평가비율'][i].keys()\n",
    "        pass\n",
    "    except:\n",
    "        print(f\"{df.loc[i,'연도']}년 과목번호: {df.loc[i,'과목번호']}\")"
   ]
  },
  {
   "cell_type": "code",
   "execution_count": 97,
   "id": "c3c6cb2c-8864-45a3-a3ac-212bfcdd594a",
   "metadata": {
    "scrolled": true
   },
   "outputs": [],
   "source": [
    "# 과목별 평가항목 검색\n",
    "unique_criterion = set()\n",
    "for i in range(len(df)):\n",
    "    try:\n",
    "        criterion = list(df['평가비율'][i].keys())\n",
    "        unique_criterion.update(criterion)\n",
    "    except:\n",
    "        pass"
   ]
  },
  {
   "cell_type": "code",
   "execution_count": 98,
   "id": "459a7db7-f172-4d42-a2d5-b2fda7da2d76",
   "metadata": {},
   "outputs": [],
   "source": [
    "# list(unique_criterion)"
   ]
  },
  {
   "cell_type": "code",
   "execution_count": 99,
   "id": "13254b08-0ecc-4d04-9ea2-121ac7501b75",
   "metadata": {},
   "outputs": [],
   "source": [
    "keywords = ['팀프로젝트', '조별과제', '조별활동', '조별발표', '팀플', '팀원', 'team']\n",
    "\n",
    "def filter_text(raw_text):\n",
    "    # 텍스트 내 공백 제거\n",
    "    text = raw_text.replace(\" \", \"\")\n",
    "    # 키워드 포함 여부 확인\n",
    "    return any(keyword in text for keyword in keywords)\n",
    "\n",
    "# DataFrame에 두 컬럼에 대해 조건 적용\n",
    "df['조별과제존재여부'] = df.apply(\n",
    "    lambda row: 1 if (filter_text(row['비고']) or filter_text(row['수강신청유의사항'])) else 0, \n",
    "    axis=1\n",
    ")"
   ]
  },
  {
   "cell_type": "code",
   "execution_count": 100,
   "id": "e1dfaeb7-149c-44ca-9e40-92fd9feb8280",
   "metadata": {
    "scrolled": true
   },
   "outputs": [],
   "source": [
    "# filtered_rows = df[df['수강신청유의사항'].apply(filter_text)]\n",
    "# for raw_text in filtered_rows['수강신청유의사항']:\n",
    "#     print(raw_text)\n",
    "#     print('-----------')"
   ]
  },
  {
   "cell_type": "code",
   "execution_count": 101,
   "id": "dd1a97ee-db6a-4413-b80d-bb864d7ad674",
   "metadata": {},
   "outputs": [
    {
     "data": {
      "text/plain": [
       "조별과제존재여부\n",
       "0    546\n",
       "1     23\n",
       "Name: count, dtype: int64"
      ]
     },
     "execution_count": 101,
     "metadata": {},
     "output_type": "execute_result"
    }
   ],
   "source": [
    "df.조별과제존재여부.value_counts()"
   ]
  },
  {
   "cell_type": "markdown",
   "id": "4f442bcf-17fe-4386-8752-03d8d86f78c4",
   "metadata": {},
   "source": [
    "## 시험 과제대체 여부\n",
    "- 해당 교과목들은 과제대체를 중간고사만 하는지, 기말고사만 하는지, 둘 다 하는지는 우선 파악하지 못하였음."
   ]
  },
  {
   "cell_type": "code",
   "execution_count": 102,
   "id": "3960950d-8ece-48f3-9ec7-d414f16696f2",
   "metadata": {},
   "outputs": [],
   "source": [
    "df['시험과제대체여부'] = 0 \n",
    "\n",
    "for i in range(len(df)):\n",
    "    # 딕셔너리로 저장된 데이터의 value 가져오기\n",
    "    try:\n",
    "        mid_exam = df.loc[i,'중간고사'].values()\n",
    "        final_exam = df.loc[i,'기말고사'].values()\n",
    "    except:\n",
    "        pass\n",
    "\n",
    "    # 원소들을 하나의 문자열로 합친 후 공백을 제거하기\n",
    "    mid_text = ''.join(mid_exam).replace(\" \", \"\")\n",
    "    final_text = ''.join(final_exam).replace(\" \", \"\")\n",
    "    text = mid_text + final_text    \n",
    "\n",
    "    # 시험 과제대체 여부 검색\n",
    "    if '대체' in text or '발표' in text or 'project' in text or 'presentation' in text:\n",
    "        df.loc[i,'시험과제대체여부'] = 1\n",
    "    elif '과제대체' in df.loc[i,'수강신청유의사항'] or '대체과제' in df.loc[i,'수강신청유의사항']:\n",
    "        df.loc[i,'시험과제대체여부'] = 1\n",
    "    elif '과제대체' in df.loc[i,'비고'] or '대체과제' in df.loc[i,'비고']:\n",
    "        df.loc[i,'시험과제대체여부'] = 1"
   ]
  },
  {
   "cell_type": "code",
   "execution_count": 103,
   "id": "2809ed4d-1ea0-4153-aa2f-ec9592082bbc",
   "metadata": {},
   "outputs": [
    {
     "data": {
      "text/plain": [
       "시험과제대체여부\n",
       "0    507\n",
       "1     62\n",
       "Name: count, dtype: int64"
      ]
     },
     "execution_count": 103,
     "metadata": {},
     "output_type": "execute_result"
    }
   ],
   "source": [
    "df.시험과제대체여부.value_counts()"
   ]
  },
  {
   "cell_type": "markdown",
   "id": "73c6eeab-65e2-40d2-b177-fb4ce034b2d4",
   "metadata": {},
   "source": [
    "## 패논패 여부"
   ]
  },
  {
   "cell_type": "code",
   "execution_count": 104,
   "id": "1d88e952-bd19-4d2f-8f9c-dbe245df0655",
   "metadata": {},
   "outputs": [],
   "source": [
    "keywords = ['Pass','P/N','패스과목','pass과목','nonpass']\n",
    "\n",
    "def filter_text(raw_text):\n",
    "    # 텍스트 내 공백 제거\n",
    "    text = raw_text.replace(\" \", \"\")\n",
    "    # 키워드 포함 여부 확인\n",
    "    return any(keyword in text for keyword in keywords)\n",
    "\n",
    "# DataFrame에 두 컬럼에 대해 조건 적용\n",
    "df['패논패여부'] = df.apply(\n",
    "    lambda row: 1 if (filter_text(row['비고']) or filter_text(row['수강신청유의사항'])) else 0, \n",
    "    axis=1\n",
    ")"
   ]
  },
  {
   "cell_type": "code",
   "execution_count": 105,
   "id": "e13d0e8a-83f1-4534-97c0-9ff2cd476017",
   "metadata": {},
   "outputs": [
    {
     "data": {
      "text/plain": [
       "패논패여부\n",
       "0    554\n",
       "1     15\n",
       "Name: count, dtype: int64"
      ]
     },
     "execution_count": 105,
     "metadata": {},
     "output_type": "execute_result"
    }
   ],
   "source": [
    "df.패논패여부.value_counts()"
   ]
  },
  {
   "cell_type": "markdown",
   "id": "48ad6371-3401-4fbe-836b-8a254424ff75",
   "metadata": {},
   "source": [
    "## 최종"
   ]
  },
  {
   "cell_type": "code",
   "execution_count": 106,
   "id": "dc48a80e-14ea-4509-b585-7b9ded7307ce",
   "metadata": {},
   "outputs": [
    {
     "data": {
      "text/plain": [
       "Index(['연도', '과목번호', '원어여부', '비고', '수강신청유의사항', '평가비율', '교재', '과제내용', '과제수',\n",
       "       '주별강의계획서', '중간고사', '기말고사', '선수과목존재여부', '조별과제존재여부', '시험과제대체여부', '패논패여부'],\n",
       "      dtype='object')"
      ]
     },
     "execution_count": 106,
     "metadata": {},
     "output_type": "execute_result"
    }
   ],
   "source": [
    "df.columns"
   ]
  },
  {
   "cell_type": "code",
   "execution_count": 107,
   "id": "58877da7-7ce2-4797-8be0-5fe1bbfeec75",
   "metadata": {},
   "outputs": [],
   "source": [
    "final_df = df[['연도', '과목번호', '원어여부', '과제수',\n",
    "               '선수과목존재여부', '조별과제존재여부', '시험과제대체여부', '패논패여부']]"
   ]
  },
  {
   "cell_type": "code",
   "execution_count": 108,
   "id": "037ee7cf-fffa-4be1-b782-27fae6dc5ad3",
   "metadata": {},
   "outputs": [
    {
     "data": {
      "text/plain": [
       "(569, 8)"
      ]
     },
     "execution_count": 108,
     "metadata": {},
     "output_type": "execute_result"
    }
   ],
   "source": [
    "final_df.shape"
   ]
  },
  {
   "cell_type": "code",
   "execution_count": 109,
   "id": "6db704b4-f24b-4c74-86b3-821682f308ac",
   "metadata": {},
   "outputs": [
    {
     "data": {
      "text/html": [
       "<div>\n",
       "<style scoped>\n",
       "    .dataframe tbody tr th:only-of-type {\n",
       "        vertical-align: middle;\n",
       "    }\n",
       "\n",
       "    .dataframe tbody tr th {\n",
       "        vertical-align: top;\n",
       "    }\n",
       "\n",
       "    .dataframe thead th {\n",
       "        text-align: right;\n",
       "    }\n",
       "</style>\n",
       "<table border=\"1\" class=\"dataframe\">\n",
       "  <thead>\n",
       "    <tr style=\"text-align: right;\">\n",
       "      <th></th>\n",
       "      <th>연도</th>\n",
       "      <th>과목번호</th>\n",
       "      <th>원어여부</th>\n",
       "      <th>과제수</th>\n",
       "      <th>선수과목존재여부</th>\n",
       "      <th>조별과제존재여부</th>\n",
       "      <th>시험과제대체여부</th>\n",
       "      <th>패논패여부</th>\n",
       "    </tr>\n",
       "  </thead>\n",
       "  <tbody>\n",
       "    <tr>\n",
       "      <th>0</th>\n",
       "      <td>2022</td>\n",
       "      <td>1501</td>\n",
       "      <td>영어</td>\n",
       "      <td>2</td>\n",
       "      <td>0</td>\n",
       "      <td>0</td>\n",
       "      <td>0</td>\n",
       "      <td>0</td>\n",
       "    </tr>\n",
       "    <tr>\n",
       "      <th>1</th>\n",
       "      <td>2022</td>\n",
       "      <td>1502</td>\n",
       "      <td></td>\n",
       "      <td>2</td>\n",
       "      <td>0</td>\n",
       "      <td>0</td>\n",
       "      <td>0</td>\n",
       "      <td>0</td>\n",
       "    </tr>\n",
       "    <tr>\n",
       "      <th>2</th>\n",
       "      <td>2022</td>\n",
       "      <td>1503</td>\n",
       "      <td></td>\n",
       "      <td>2</td>\n",
       "      <td>0</td>\n",
       "      <td>0</td>\n",
       "      <td>0</td>\n",
       "      <td>0</td>\n",
       "    </tr>\n",
       "    <tr>\n",
       "      <th>3</th>\n",
       "      <td>2022</td>\n",
       "      <td>1504</td>\n",
       "      <td></td>\n",
       "      <td>3</td>\n",
       "      <td>0</td>\n",
       "      <td>0</td>\n",
       "      <td>0</td>\n",
       "      <td>0</td>\n",
       "    </tr>\n",
       "    <tr>\n",
       "      <th>4</th>\n",
       "      <td>2022</td>\n",
       "      <td>1505</td>\n",
       "      <td></td>\n",
       "      <td>1</td>\n",
       "      <td>0</td>\n",
       "      <td>1</td>\n",
       "      <td>0</td>\n",
       "      <td>0</td>\n",
       "    </tr>\n",
       "    <tr>\n",
       "      <th>5</th>\n",
       "      <td>2022</td>\n",
       "      <td>1506</td>\n",
       "      <td></td>\n",
       "      <td>1</td>\n",
       "      <td>0</td>\n",
       "      <td>0</td>\n",
       "      <td>0</td>\n",
       "      <td>0</td>\n",
       "    </tr>\n",
       "    <tr>\n",
       "      <th>6</th>\n",
       "      <td>2022</td>\n",
       "      <td>1507</td>\n",
       "      <td></td>\n",
       "      <td>1</td>\n",
       "      <td>0</td>\n",
       "      <td>0</td>\n",
       "      <td>0</td>\n",
       "      <td>0</td>\n",
       "    </tr>\n",
       "    <tr>\n",
       "      <th>7</th>\n",
       "      <td>2022</td>\n",
       "      <td>1508</td>\n",
       "      <td></td>\n",
       "      <td>1</td>\n",
       "      <td>0</td>\n",
       "      <td>0</td>\n",
       "      <td>0</td>\n",
       "      <td>0</td>\n",
       "    </tr>\n",
       "    <tr>\n",
       "      <th>8</th>\n",
       "      <td>2022</td>\n",
       "      <td>1509</td>\n",
       "      <td></td>\n",
       "      <td>2</td>\n",
       "      <td>0</td>\n",
       "      <td>0</td>\n",
       "      <td>0</td>\n",
       "      <td>0</td>\n",
       "    </tr>\n",
       "    <tr>\n",
       "      <th>9</th>\n",
       "      <td>2022</td>\n",
       "      <td>1510</td>\n",
       "      <td></td>\n",
       "      <td>2</td>\n",
       "      <td>0</td>\n",
       "      <td>0</td>\n",
       "      <td>0</td>\n",
       "      <td>0</td>\n",
       "    </tr>\n",
       "  </tbody>\n",
       "</table>\n",
       "</div>"
      ],
      "text/plain": [
       "     연도  과목번호 원어여부  과제수  선수과목존재여부  조별과제존재여부  시험과제대체여부  패논패여부\n",
       "0  2022  1501   영어    2         0         0         0      0\n",
       "1  2022  1502         2         0         0         0      0\n",
       "2  2022  1503         2         0         0         0      0\n",
       "3  2022  1504         3         0         0         0      0\n",
       "4  2022  1505         1         0         1         0      0\n",
       "5  2022  1506         1         0         0         0      0\n",
       "6  2022  1507         1         0         0         0      0\n",
       "7  2022  1508         1         0         0         0      0\n",
       "8  2022  1509         2         0         0         0      0\n",
       "9  2022  1510         2         0         0         0      0"
      ]
     },
     "execution_count": 109,
     "metadata": {},
     "output_type": "execute_result"
    }
   ],
   "source": [
    "final_df.head(10)"
   ]
  },
  {
   "cell_type": "code",
   "execution_count": 110,
   "id": "ebb80571-106f-42cb-ba4c-c8de70507668",
   "metadata": {},
   "outputs": [],
   "source": [
    "final_df.to_csv('강의계획서_심교_전처리.csv',index=False,encoding='cp949')"
   ]
  },
  {
   "cell_type": "markdown",
   "id": "eb233ecc-1d57-4486-907a-7425cf85fc95",
   "metadata": {},
   "source": [
    "## EDA"
   ]
  },
  {
   "cell_type": "code",
   "execution_count": 112,
   "id": "6026c6c5-c452-4bde-ba2b-7ada809763bb",
   "metadata": {},
   "outputs": [
    {
     "data": {
      "image/png": "[encoded data removed]",
      "text/plain": [
       "<Figure size 640x480 with 1 Axes>"
      ]
     },
     "metadata": {},
     "output_type": "display_data"
    }
   ],
   "source": [
    "plt.hist(df.과제수,bins=20)\n",
    "plt.show()"
   ]
  },
  {
   "cell_type": "code",
   "execution_count": 113,
   "id": "9e72fc88-b3f2-4e83-8108-b4e37a37c763",
   "metadata": {},
   "outputs": [
    {
     "data": {
      "text/plain": [
       "원어여부\n",
       "      546\n",
       "영어     23\n",
       "Name: count, dtype: int64"
      ]
     },
     "execution_count": 113,
     "metadata": {},
     "output_type": "execute_result"
    }
   ],
   "source": [
    "df.원어여부.value_counts()"
   ]
  },
  {
   "cell_type": "code",
   "execution_count": 114,
   "id": "5ae2c1a4-bb57-4351-848f-84c91c95b017",
   "metadata": {},
   "outputs": [
    {
     "data": {
      "text/plain": [
       "선수과목존재여부\n",
       "0    568\n",
       "1      1\n",
       "Name: count, dtype: int64"
      ]
     },
     "execution_count": 114,
     "metadata": {},
     "output_type": "execute_result"
    }
   ],
   "source": [
    "df.선수과목존재여부.value_counts()"
   ]
  },
  {
   "cell_type": "code",
   "execution_count": 115,
   "id": "2d18b5a7-af36-4d08-9283-5bfd78abb7d0",
   "metadata": {},
   "outputs": [
    {
     "data": {
      "text/plain": [
       "조별과제존재여부\n",
       "0    546\n",
       "1     23\n",
       "Name: count, dtype: int64"
      ]
     },
     "execution_count": 115,
     "metadata": {},
     "output_type": "execute_result"
    }
   ],
   "source": [
    "df.조별과제존재여부.value_counts()"
   ]
  },
  {
   "cell_type": "code",
   "execution_count": 116,
   "id": "ede09e5e-be7f-4afa-a239-572ee1396733",
   "metadata": {},
   "outputs": [
    {
     "data": {
      "text/plain": [
       "시험과제대체여부\n",
       "0    507\n",
       "1     62\n",
       "Name: count, dtype: int64"
      ]
     },
     "execution_count": 116,
     "metadata": {},
     "output_type": "execute_result"
    }
   ],
   "source": [
    "df.시험과제대체여부.value_counts()"
   ]
  },
  {
   "cell_type": "code",
   "execution_count": 117,
   "id": "1c4326e0-fffa-41e6-a8ac-b7cb191ae1ea",
   "metadata": {},
   "outputs": [
    {
     "data": {
      "text/plain": [
       "패논패여부\n",
       "0    554\n",
       "1     15\n",
       "Name: count, dtype: int64"
      ]
     },
     "execution_count": 117,
     "metadata": {},
     "output_type": "execute_result"
    }
   ],
   "source": [
    "df.패논패여부.value_counts()"
   ]
  }
 ],
 "metadata": {
  "kernelspec": {
   "display_name": "Python 3 (ipykernel)",
   "language": "python",
   "name": "python3"
  },
  "language_info": {
   "codemirror_mode": {
    "name": "ipython",
    "version": 3
   },
   "file_extension": ".py",
   "mimetype": "text/x-python",
   "name": "python",
   "nbconvert_exporter": "python",
   "pygments_lexer": "ipython3",
   "version": "3.10.11"
  }
 },
 "nbformat": 4,
 "nbformat_minor": 5
}
