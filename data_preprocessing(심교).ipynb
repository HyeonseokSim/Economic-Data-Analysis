{
 "cells": [
  {
   "cell_type": "code",
   "execution_count": 226,
   "id": "df1927fc-7e41-494e-9f88-b874ae378e89",
   "metadata": {},
   "outputs": [],
   "source": [
    "import pandas as pd\n",
    "import numpy as np\n",
    "import ast\n",
    "import matplotlib.pyplot as plt"
   ]
  },
  {
   "cell_type": "code",
   "execution_count": 227,
   "id": "5e6eb485-db5f-4a6f-b53a-63b32d87795f",
   "metadata": {},
   "outputs": [],
   "source": [
    "df = pd.read_csv('심교_저학년_1202.csv',encoding='cp949')"
   ]
  },
  {
   "cell_type": "code",
   "execution_count": 228,
   "id": "3a5d2b90-6ff8-43e2-8a09-b761b3e45ec1",
   "metadata": {},
   "outputs": [
    {
     "data": {
      "text/plain": [
       "(569, 40)"
      ]
     },
     "execution_count": 228,
     "metadata": {},
     "output_type": "execute_result"
    }
   ],
   "source": [
    "df.shape"
   ]
  },
  {
   "cell_type": "code",
   "execution_count": 229,
   "id": "1823cfc3-1bfd-4fa8-bfe1-2787655b4b23",
   "metadata": {},
   "outputs": [
    {
     "data": {
      "text/html": [
       "<div>\n",
       "<style scoped>\n",
       "    .dataframe tbody tr th:only-of-type {\n",
       "        vertical-align: middle;\n",
       "    }\n",
       "\n",
       "    .dataframe tbody tr th {\n",
       "        vertical-align: top;\n",
       "    }\n",
       "\n",
       "    .dataframe thead th {\n",
       "        text-align: right;\n",
       "    }\n",
       "</style>\n",
       "<table border=\"1\" class=\"dataframe\">\n",
       "  <thead>\n",
       "    <tr style=\"text-align: right;\">\n",
       "      <th></th>\n",
       "      <th>연도</th>\n",
       "      <th>과목번호</th>\n",
       "      <th>교과목명</th>\n",
       "      <th>학점</th>\n",
       "      <th>시간</th>\n",
       "      <th>강의종류</th>\n",
       "      <th>강의유형</th>\n",
       "      <th>교양영역</th>\n",
       "      <th>전체학년 제한인원</th>\n",
       "      <th>전체학년 수강바구니</th>\n",
       "      <th>...</th>\n",
       "      <th>수강신청유의사항</th>\n",
       "      <th>과제비율</th>\n",
       "      <th>교재</th>\n",
       "      <th>과제내용</th>\n",
       "      <th>과제수</th>\n",
       "      <th>주별강의계획서</th>\n",
       "      <th>중간고사</th>\n",
       "      <th>기말고사</th>\n",
       "      <th>담당교수</th>\n",
       "      <th>학수번호</th>\n",
       "    </tr>\n",
       "  </thead>\n",
       "  <tbody>\n",
       "  </tbody>\n",
       "</table>\n",
       "<p>0 rows × 40 columns</p>\n",
       "</div>"
      ],
      "text/plain": [
       "Empty DataFrame\n",
       "Columns: [연도, 과목번호, 교과목명, 학점, 시간, 강의종류, 강의유형, 교양영역, 전체학년 제한인원, 전체학년 수강바구니, 전체학년 경쟁률, 2학년 제한인원, 2학년 수강바구니, 2학년 경쟁률, 1학년 제한인원, 1학년 수강바구니, 1학년 경쟁률, 수업요일, 건물명, 일주일 중 수업횟수, 수업시간대, 층, 분반 개수, 패스과목, 원어강의, 절대평가 유무, 점심시간 포함 개수, 저학년 경쟁률, 원어여부, 비고, 수강신청유의사항, 과제비율, 교재, 과제내용, 과제수, 주별강의계획서, 중간고사, 기말고사, 담당교수, 학수번호]\n",
       "Index: []\n",
       "\n",
       "[0 rows x 40 columns]"
      ]
     },
     "execution_count": 229,
     "metadata": {},
     "output_type": "execute_result"
    }
   ],
   "source": [
    "df[df['수강신청유의사항'] == '#NAME?']"
   ]
  },
  {
   "cell_type": "markdown",
   "id": "f596c002-62bd-4801-902b-dec343db8d81",
   "metadata": {},
   "source": [
    "## 파생변수 정의\n",
    "- 선수과목 존재 여부\n",
    "- 조별과제 존재 여부\n",
    "- 지필고사 대체 여부\n",
    "- 수강대상 보호 여부\n",
    "- 유학생, 교환학생 수강제한 여부\n",
    "- 1교시 여부\n",
    "- 월요일 여부\n",
    "- 금요일 여부\n",
    "- 이론강의팀플존재여부\n",
    "- (new) 법학관 여부\n",
    "- (new) 산학협동관 여부"
   ]
  },
  {
   "cell_type": "code",
   "execution_count": 230,
   "id": "029de92e-3fd7-4de5-a81f-3c588c13c28a",
   "metadata": {},
   "outputs": [],
   "source": [
    "df.rename(columns={'과제비율':'평가비율'},inplace=True)"
   ]
  },
  {
   "cell_type": "code",
   "execution_count": 231,
   "id": "ad29fc60-e51c-49c6-895e-31bba16d2818",
   "metadata": {},
   "outputs": [],
   "source": [
    "# 딕셔너리로 저장된 데이터를 str에서 딕셔너리로 변환\n",
    "def convert_to_dictionary(x):\n",
    "    try:\n",
    "        return ast.literal_eval(x)\n",
    "    except Exception:\n",
    "        return x"
   ]
  },
  {
   "cell_type": "code",
   "execution_count": 232,
   "id": "95a5950c-c07d-4c35-9306-5489a05cdd61",
   "metadata": {},
   "outputs": [],
   "source": [
    "df['평가비율'] = df['평가비율'].apply(convert_to_dictionary)\n",
    "df['교재'] = df['교재'].apply(convert_to_dictionary)\n",
    "df['과제내용'] = df['과제내용'].apply(convert_to_dictionary)\n",
    "df['주별강의계획서'] = df['주별강의계획서'].apply(convert_to_dictionary)\n",
    "df['중간고사'] = df['중간고사'].apply(convert_to_dictionary)\n",
    "df['기말고사'] = df['기말고사'].apply(convert_to_dictionary)"
   ]
  },
  {
   "cell_type": "code",
   "execution_count": 233,
   "id": "25fe373e-0ff1-499c-bf15-afc847890a2c",
   "metadata": {},
   "outputs": [],
   "source": [
    "# 결측치 처리\n",
    "df['비고'] = df['비고'].fillna('')\n",
    "df['수강신청유의사항'] = df['수강신청유의사항'].fillna('')"
   ]
  },
  {
   "cell_type": "code",
   "execution_count": 234,
   "id": "a5faa206-4f3e-48c6-993b-9808ee29cd13",
   "metadata": {},
   "outputs": [
    {
     "data": {
      "text/plain": [
       "Index(['연도', '과목번호', '교과목명', '학점', '시간', '강의종류', '강의유형', '교양영역', '전체학년 제한인원',\n",
       "       '전체학년 수강바구니', '전체학년 경쟁률', '2학년 제한인원', '2학년 수강바구니', '2학년 경쟁률',\n",
       "       '1학년 제한인원', '1학년 수강바구니', '1학년 경쟁률', '수업요일', '건물명', '일주일 중 수업횟수',\n",
       "       '수업시간대', '층', '분반 개수', '패스과목', '원어강의', '절대평가 유무', '점심시간 포함 개수',\n",
       "       '저학년 경쟁률', '원어여부', '비고', '수강신청유의사항', '평가비율', '교재', '과제내용', '과제수',\n",
       "       '주별강의계획서', '중간고사', '기말고사', '담당교수', '학수번호'],\n",
       "      dtype='object')"
      ]
     },
     "execution_count": 234,
     "metadata": {},
     "output_type": "execute_result"
    }
   ],
   "source": [
    "df.columns"
   ]
  },
  {
   "cell_type": "markdown",
   "id": "bbba585e-9ff9-4fa3-81b2-bd21ee022995",
   "metadata": {},
   "source": [
    "### 중복된 컬럼 확인"
   ]
  },
  {
   "cell_type": "code",
   "execution_count": 235,
   "id": "6f301915-8f80-406c-9a1e-2b118b6981eb",
   "metadata": {},
   "outputs": [],
   "source": [
    "def check_foreign(df):\n",
    "    # 첫 번째 조건\n",
    "    condition1 = (df['원어강의'] != 1.0) & (df['원어여부'].isin(['영어', '중국어']))\n",
    "    mismatches1 = df[condition1]\n",
    "    for idx, row in mismatches1.iterrows():\n",
    "        print(f\"{idx}번째 행: {row['원어강의']} vs. {row['원어여부']}\")\n",
    "\n",
    "    # 두 번째 조건\n",
    "    condition2 = (df['원어강의'] == 1.0) & (pd.isna(df['원어여부']))\n",
    "    mismatches2 = df[condition2]\n",
    "    for idx, row in mismatches2.iterrows():\n",
    "        print(f\"{idx}번째 행: {row['원어강의']} vs. {row['원어여부']}\")"
   ]
  },
  {
   "cell_type": "code",
   "execution_count": 236,
   "id": "29c9f5ef-0093-42a9-9270-4ce684c5419c",
   "metadata": {},
   "outputs": [],
   "source": [
    "check_foreign(df)"
   ]
  },
  {
   "cell_type": "code",
   "execution_count": 237,
   "id": "57c8a80c-ade7-42dd-a22b-eb82fc5a7675",
   "metadata": {},
   "outputs": [],
   "source": [
    "df.drop(columns=['원어여부'],inplace=True)"
   ]
  },
  {
   "cell_type": "markdown",
   "id": "3c1fb3f4-0664-4e76-8a43-784dfc55fc83",
   "metadata": {},
   "source": [
    "### 결측치 확인"
   ]
  },
  {
   "cell_type": "code",
   "execution_count": 238,
   "id": "5766136d-f8fb-407d-8e16-ea8d58067929",
   "metadata": {},
   "outputs": [
    {
     "data": {
      "text/plain": [
       "수업요일      50\n",
       "건물명       81\n",
       "수업시간대     51\n",
       "층         81\n",
       "원어강의     107\n",
       "교재       115\n",
       "과제내용      39\n",
       "dtype: int64"
      ]
     },
     "execution_count": 238,
     "metadata": {},
     "output_type": "execute_result"
    }
   ],
   "source": [
    "series = pd.Series(df.isnull().sum())\n",
    "series[series > 0]"
   ]
  },
  {
   "cell_type": "code",
   "execution_count": 239,
   "id": "f2da804f-a056-4bcc-904e-429e326a01c7",
   "metadata": {},
   "outputs": [
    {
     "data": {
      "text/html": [
       "<div>\n",
       "<style scoped>\n",
       "    .dataframe tbody tr th:only-of-type {\n",
       "        vertical-align: middle;\n",
       "    }\n",
       "\n",
       "    .dataframe tbody tr th {\n",
       "        vertical-align: top;\n",
       "    }\n",
       "\n",
       "    .dataframe thead th {\n",
       "        text-align: right;\n",
       "    }\n",
       "</style>\n",
       "<table border=\"1\" class=\"dataframe\">\n",
       "  <thead>\n",
       "    <tr style=\"text-align: right;\">\n",
       "      <th></th>\n",
       "      <th>연도</th>\n",
       "      <th>과목번호</th>\n",
       "      <th>교과목명</th>\n",
       "      <th>강의종류</th>\n",
       "      <th>강의유형</th>\n",
       "    </tr>\n",
       "  </thead>\n",
       "  <tbody>\n",
       "    <tr>\n",
       "      <th>3</th>\n",
       "      <td>2022</td>\n",
       "      <td>1504</td>\n",
       "      <td>대중소비사회와소비자교육</td>\n",
       "      <td>e-러닝</td>\n",
       "      <td>이론</td>\n",
       "    </tr>\n",
       "    <tr>\n",
       "      <th>11</th>\n",
       "      <td>2022</td>\n",
       "      <td>1512</td>\n",
       "      <td>발명과특허</td>\n",
       "      <td>e-러닝</td>\n",
       "      <td>이론</td>\n",
       "    </tr>\n",
       "    <tr>\n",
       "      <th>13</th>\n",
       "      <td>2022</td>\n",
       "      <td>1514</td>\n",
       "      <td>사회와회계</td>\n",
       "      <td>e-러닝</td>\n",
       "      <td>이론</td>\n",
       "    </tr>\n",
       "    <tr>\n",
       "      <th>26</th>\n",
       "      <td>2022</td>\n",
       "      <td>1527</td>\n",
       "      <td>알프스지역전설과요들송</td>\n",
       "      <td>e-러닝</td>\n",
       "      <td>이론</td>\n",
       "    </tr>\n",
       "    <tr>\n",
       "      <th>38</th>\n",
       "      <td>2022</td>\n",
       "      <td>1539</td>\n",
       "      <td>중국문화와중국문자</td>\n",
       "      <td>e-러닝</td>\n",
       "      <td>이론</td>\n",
       "    </tr>\n",
       "    <tr>\n",
       "      <th>...</th>\n",
       "      <td>...</td>\n",
       "      <td>...</td>\n",
       "      <td>...</td>\n",
       "      <td>...</td>\n",
       "      <td>...</td>\n",
       "    </tr>\n",
       "    <tr>\n",
       "      <th>545</th>\n",
       "      <td>2024</td>\n",
       "      <td>1704</td>\n",
       "      <td>팬데믹이후의공공철학</td>\n",
       "      <td>e-러닝</td>\n",
       "      <td>이론</td>\n",
       "    </tr>\n",
       "    <tr>\n",
       "      <th>559</th>\n",
       "      <td>2024</td>\n",
       "      <td>1720</td>\n",
       "      <td>빅데이터분석을위한기초통계</td>\n",
       "      <td>e-러닝</td>\n",
       "      <td>이론</td>\n",
       "    </tr>\n",
       "    <tr>\n",
       "      <th>560</th>\n",
       "      <td>2024</td>\n",
       "      <td>1721</td>\n",
       "      <td>파이썬을활용한데이터분석</td>\n",
       "      <td>e-러닝</td>\n",
       "      <td>이론</td>\n",
       "    </tr>\n",
       "    <tr>\n",
       "      <th>565</th>\n",
       "      <td>2024</td>\n",
       "      <td>1729</td>\n",
       "      <td>탄소중립과에너지법</td>\n",
       "      <td>e-러닝</td>\n",
       "      <td>이론+실습</td>\n",
       "    </tr>\n",
       "    <tr>\n",
       "      <th>566</th>\n",
       "      <td>2024</td>\n",
       "      <td>1731</td>\n",
       "      <td>인공지능시대:영화로보는인공지능의과학과허구그리고윤리</td>\n",
       "      <td>e-러닝</td>\n",
       "      <td>이론</td>\n",
       "    </tr>\n",
       "  </tbody>\n",
       "</table>\n",
       "<p>81 rows × 5 columns</p>\n",
       "</div>"
      ],
      "text/plain": [
       "       연도  과목번호                         교과목명  강의종류   강의유형\n",
       "3    2022  1504                 대중소비사회와소비자교육  e-러닝     이론\n",
       "11   2022  1512                        발명과특허  e-러닝     이론\n",
       "13   2022  1514                        사회와회계  e-러닝     이론\n",
       "26   2022  1527                  알프스지역전설과요들송  e-러닝     이론\n",
       "38   2022  1539                    중국문화와중국문자  e-러닝     이론\n",
       "..    ...   ...                          ...   ...    ...\n",
       "545  2024  1704                   팬데믹이후의공공철학  e-러닝     이론\n",
       "559  2024  1720                빅데이터분석을위한기초통계  e-러닝     이론\n",
       "560  2024  1721                 파이썬을활용한데이터분석  e-러닝     이론\n",
       "565  2024  1729                    탄소중립과에너지법  e-러닝  이론+실습\n",
       "566  2024  1731  인공지능시대:영화로보는인공지능의과학과허구그리고윤리  e-러닝     이론\n",
       "\n",
       "[81 rows x 5 columns]"
      ]
     },
     "execution_count": 239,
     "metadata": {},
     "output_type": "execute_result"
    }
   ],
   "source": [
    "df[df['층'].isna()][['연도','과목번호','교과목명','강의종류','강의유형']]"
   ]
  },
  {
   "cell_type": "code",
   "execution_count": 240,
   "id": "4b04cf9a-8581-4bb6-a79b-bff83955e004",
   "metadata": {},
   "outputs": [
    {
     "data": {
      "text/plain": [
       "array(['e-러닝'], dtype=object)"
      ]
     },
     "execution_count": 240,
     "metadata": {},
     "output_type": "execute_result"
    }
   ],
   "source": [
    "df[df['층'].isna()][['연도','과목번호','교과목명','강의종류','강의유형']].강의종류.unique()"
   ]
  },
  {
   "cell_type": "code",
   "execution_count": 241,
   "id": "5164cc84-1ae2-494b-af94-6f590e4edafe",
   "metadata": {},
   "outputs": [],
   "source": [
    "df[['수업요일','건물명','수업시간대','층']] = df[['수업요일','건물명','수업시간대','층']].fillna('온라인')"
   ]
  },
  {
   "cell_type": "code",
   "execution_count": 242,
   "id": "3ed2a496-ba3d-4bbb-ab7a-eadcadad4f27",
   "metadata": {},
   "outputs": [],
   "source": [
    "df['원어강의'] = df['원어강의'].fillna(0)"
   ]
  },
  {
   "cell_type": "markdown",
   "id": "94703bc3-db48-4f3e-afa4-f5acf8ac7a3e",
   "metadata": {
    "jp-MarkdownHeadingCollapsed": true
   },
   "source": [
    "### 선수과목 존재 여부"
   ]
  },
  {
   "cell_type": "code",
   "execution_count": 243,
   "id": "c1902618-52d2-4562-adec-1f4a0021e969",
   "metadata": {},
   "outputs": [],
   "source": [
    "keywords = ['선수과목', '선이수', '이수요망', '이수자만', 'prerequisite', '듣지않은', 'C프로그래밍필수']\n",
    "no_keywords = ['선수과목이필', '선수과목은필', '선수과목은없', 'keytheories', 'Noprerequisite']\n",
    "\n",
    "df['선수과목존재여부'] = 0\n",
    "\n",
    "def filter_text(raw_text):\n",
    "    # 텍스트 내 공백 제거\n",
    "    text = raw_text.replace(\" \", \"\")\n",
    "    # 키워드 포함 여부 확인\n",
    "    contains_keyword = any(keyword in text for keyword in keywords)\n",
    "    # 제외 키워드 포함 여부 확인\n",
    "    contains_no_keyword = any(no_keyword in text for no_keyword in no_keywords)\n",
    "    # 조건에 따라 T/F 반환\n",
    "    return contains_keyword and not contains_no_keyword\n",
    "\n",
    "# DataFrame에 두 컬럼에 대해 조건 적용\n",
    "df['선수과목존재여부'] = df.apply(\n",
    "    lambda row: 1 if (filter_text(row['비고']) or filter_text(row['수강신청유의사항'])) else 0, \n",
    "    axis=1\n",
    ")"
   ]
  },
  {
   "cell_type": "code",
   "execution_count": 244,
   "id": "778ceabf-cc98-4c74-a3be-7c34a6ae3b1c",
   "metadata": {},
   "outputs": [
    {
     "data": {
      "text/plain": [
       "선수과목존재여부\n",
       "0    568\n",
       "1      1\n",
       "Name: count, dtype: int64"
      ]
     },
     "execution_count": 244,
     "metadata": {},
     "output_type": "execute_result"
    }
   ],
   "source": [
    "df.선수과목존재여부.value_counts()"
   ]
  },
  {
   "cell_type": "markdown",
   "id": "3d9a7d1d-88b6-4503-98f7-f119c4764dce",
   "metadata": {
    "jp-MarkdownHeadingCollapsed": true
   },
   "source": [
    "### 조별과제 존재 여부"
   ]
  },
  {
   "cell_type": "code",
   "execution_count": 245,
   "id": "13254b08-0ecc-4d04-9ea2-121ac7501b75",
   "metadata": {},
   "outputs": [],
   "source": [
    "keywords = ['팀프로젝트', '조별', '팀플', '팀원', '팀별', 'team']\n",
    "no_keywords = ['팀프로젝트는없','조별활동은없','조별과제는없','팀별활동은없','팀별과제는없',\n",
    "               '팀프로젝트가없','조별활동이없','팀별활동이없','noteam']\n",
    "\n",
    "df['조별과제존재여부'] = 0\n",
    "\n",
    "def filter_text(raw_text):\n",
    "    # 텍스트 내 공백 제거\n",
    "    text = raw_text.replace(\" \", \"\")\n",
    "    # 키워드 포함 여부 확인\n",
    "    contains_keyword = any(keyword in text for keyword in keywords)\n",
    "    # 제외 키워드 포함 여부 확인\n",
    "    contains_no_keyword = any(no_keyword in text for no_keyword in no_keywords)\n",
    "    # 조건에 따라 T/F 반환\n",
    "    return contains_keyword and not contains_no_keyword\n",
    "\n",
    "# DataFrame에 두 컬럼에 대해 조건 적용\n",
    "df['조별과제존재여부'] = df.apply(\n",
    "    lambda row: 1 if (filter_text(row['비고']) or filter_text(row['수강신청유의사항'])) else 0, \n",
    "    axis=1\n",
    ")"
   ]
  },
  {
   "cell_type": "code",
   "execution_count": 246,
   "id": "e1dfaeb7-149c-44ca-9e40-92fd9feb8280",
   "metadata": {
    "scrolled": true
   },
   "outputs": [],
   "source": [
    "# filtered_rows = df[df['수강신청유의사항'].apply(filter_text)]\n",
    "# for raw_text in filtered_rows['수강신청유의사항']:\n",
    "#     print(raw_text)\n",
    "#     print('-----------')"
   ]
  },
  {
   "cell_type": "code",
   "execution_count": 247,
   "id": "dd1a97ee-db6a-4413-b80d-bb864d7ad674",
   "metadata": {},
   "outputs": [
    {
     "data": {
      "text/plain": [
       "조별과제존재여부\n",
       "0    542\n",
       "1     27\n",
       "Name: count, dtype: int64"
      ]
     },
     "execution_count": 247,
     "metadata": {},
     "output_type": "execute_result"
    }
   ],
   "source": [
    "df.조별과제존재여부.value_counts()"
   ]
  },
  {
   "cell_type": "markdown",
   "id": "4f442bcf-17fe-4386-8752-03d8d86f78c4",
   "metadata": {
    "jp-MarkdownHeadingCollapsed": true
   },
   "source": [
    "### 지필고사 대체 여부"
   ]
  },
  {
   "cell_type": "code",
   "execution_count": 248,
   "id": "3960950d-8ece-48f3-9ec7-d414f16696f2",
   "metadata": {},
   "outputs": [],
   "source": [
    "keywords1 = ['대체','발표','제출','프로젝트','포트폴리오','과제물','팀플','프레젠테이션','프리젠테이션',\n",
    "             'project','presentation','assignment','Project','Presentation','Assignment','중간과제','기말과제']\n",
    "keywords2 = ['과제대체','대체과제','과제물로대체']\n",
    "\n",
    "df['지필고사대체여부'] = 0 \n",
    "\n",
    "for i in range(len(df)):\n",
    "    # 딕셔너리로 저장된 시험내용 데이터의 value 가져오기\n",
    "    try:\n",
    "        mid_exam = df.loc[i,'중간고사'].values()\n",
    "        final_exam = df.loc[i,'기말고사'].values()\n",
    "    except:\n",
    "        pass\n",
    "\n",
    "    # 딕셔너리로 저장된 과제내용 데이터의 value 가져오기\n",
    "    try:\n",
    "        homework = df.loc[i,'과제내용'].values()\n",
    "    except:\n",
    "        pass\n",
    "\n",
    "    # 원소들을 하나의 문자열로 합친 후 공백을 제거하기\n",
    "    mid_text = ''.join(mid_exam).replace(\" \", \"\")\n",
    "    final_text = ''.join(final_exam).replace(\" \", \"\")\n",
    "    text = mid_text + final_text    \n",
    "\n",
    "    caution = df.loc[i,'수강신청유의사항'].replace(\" \", \"\")\n",
    "    remark = df.loc[i,'비고'].replace(\" \", \"\")\n",
    "    hw_text = ''.join(homework).replace(\" \", \"\")\n",
    "    \n",
    "    # 시험 과제대체 여부 검색\n",
    "    if '실습' not in df.loc[i,'교과목명'] or '실기' not in df.loc[i,'교과목명']:\n",
    "        if any(word in text for word in keywords1):\n",
    "            df.loc[i,'지필고사대체여부'] = 1\n",
    "        elif any(word in caution for word in keywords2):\n",
    "            df.loc[i,'지필고사대체여부'] = 1\n",
    "        elif any(word in remark for word in keywords2):\n",
    "            df.loc[i,'지필고사대체여부'] = 1\n",
    "        elif any(word in hw_text for word in keywords2):\n",
    "            df.loc[i,'지필고사대체여부'] = 1"
   ]
  },
  {
   "cell_type": "code",
   "execution_count": 249,
   "id": "2809ed4d-1ea0-4153-aa2f-ec9592082bbc",
   "metadata": {},
   "outputs": [
    {
     "data": {
      "text/plain": [
       "지필고사대체여부\n",
       "0    458\n",
       "1    111\n",
       "Name: count, dtype: int64"
      ]
     },
     "execution_count": 249,
     "metadata": {},
     "output_type": "execute_result"
    }
   ],
   "source": [
    "df.지필고사대체여부.value_counts()"
   ]
  },
  {
   "cell_type": "markdown",
   "id": "b6c2d6b9-a67d-4a71-91fb-79ddef6b65bc",
   "metadata": {
    "jp-MarkdownHeadingCollapsed": true
   },
   "source": [
    "### 수강대상 보호 여부\n",
    "- 원전공생에게만/우선적으로 수강신청 기회를 제공하는 경우\n",
    "- 수강 대상 학년에게만/우선적으로 수강신청 기회를 제공하는 경우"
   ]
  },
  {
   "cell_type": "code",
   "execution_count": 250,
   "id": "7f0601a9-a305-4ec1-9080-aad153046c94",
   "metadata": {},
   "outputs": [],
   "source": [
    "df['수강대상보호'] = 0\n",
    "\n",
    "for i in range(len(df)):\n",
    "    # 검색 키\n",
    "    text = df.loc[i,'비고']\n",
    "    \n",
    "    ### ('학과' 또는 '학부' 또는 '전공')과 '수강', '가능' 세 단어가 포함된 경우\n",
    "    condition1 = (any(word in text for word in ['학과', '학부', '전공'])\n",
    "                  and '수강' in text\n",
    "                  and '가능' in text)\n",
    "    ### 다/부전공과 관한 단어가 포함된 경우\n",
    "    condition2 = (any(word in text for word in ['다전', '다(부', '다/부', '부전', '부)전', '부/전']))\n",
    "    ### 우선수강, 특정 학생만 수강 등 내용이 포함된 경우 (단, 선수과목에 대한 내용이면 제외)\n",
    "    condition3 = (any(word1 in text for word1 in ['우선수강','만수강'])\n",
    "                  and not any(word2 in text for word2 in ['선수과목','선이수','이수자만']))\n",
    "    ### GTEP 여부\n",
    "    condition4 = ('GTEP' in text)\n",
    "\n",
    "    if condition1 or condition2 or condition3 or condition4:\n",
    "        df.loc[i,'수강대상보호'] = 1        "
   ]
  },
  {
   "cell_type": "code",
   "execution_count": 251,
   "id": "cc57f498-9afd-4971-b519-41c253af0fea",
   "metadata": {},
   "outputs": [
    {
     "data": {
      "text/plain": [
       "수강대상보호\n",
       "0    544\n",
       "1     25\n",
       "Name: count, dtype: int64"
      ]
     },
     "execution_count": 251,
     "metadata": {},
     "output_type": "execute_result"
    }
   ],
   "source": [
    "df.수강대상보호.value_counts()"
   ]
  },
  {
   "cell_type": "code",
   "execution_count": 252,
   "id": "69309885-f9ab-4f31-94cc-f87caa624989",
   "metadata": {},
   "outputs": [],
   "source": [
    "# keywords = ['신산업융합학과','K뷰티산업융합학과']\n",
    "\n",
    "# df['산업융합학과수강제한'] = 0\n",
    "\n",
    "# def filter_text(raw_text):\n",
    "#     # 텍스트 내 공백 제거\n",
    "#     text = raw_text.replace(\" \", \"\")\n",
    "#     # 키워드 포함 여부 확인\n",
    "#     return any(keyword in text for keyword in keywords)\n",
    "\n",
    "# # DataFrame에 두 컬럼에 대해 조건 적용\n",
    "# df['산업융합학과수강제한'] = df.apply(\n",
    "#     lambda row: 1 if (filter_text(row['비고']) or filter_text(row['수강신청유의사항'])) else 0, \n",
    "#     axis=1\n",
    "# )"
   ]
  },
  {
   "cell_type": "code",
   "execution_count": 253,
   "id": "49e12392-a1b6-4494-96fc-ee9e7322ca07",
   "metadata": {},
   "outputs": [],
   "source": [
    "# filtered_rows = df[df['비고'].apply(filter_text)]\n",
    "# for row in range(len(filtered_rows)):\n",
    "#     print(f\"{filtered_rows.iloc[row, 0]}, {filtered_rows.iloc[row, 1]}, {filtered_rows.iloc[row, 3]}\")\n",
    "#     print('-----------')"
   ]
  },
  {
   "cell_type": "code",
   "execution_count": 254,
   "id": "f8531943-93d0-4259-a39a-0cc2fd9caf5b",
   "metadata": {},
   "outputs": [],
   "source": [
    "# df.산업융합학과수강제한.value_counts()"
   ]
  },
  {
   "cell_type": "markdown",
   "id": "aa625c2b-9714-4cfe-b429-0993992115f5",
   "metadata": {
    "jp-MarkdownHeadingCollapsed": true
   },
   "source": [
    "### 유학생,교환학생 수강제한 여부"
   ]
  },
  {
   "cell_type": "code",
   "execution_count": 255,
   "id": "a83169ca-529e-4995-ae73-5d95f0839c7a",
   "metadata": {},
   "outputs": [],
   "source": [
    "keywords = ['유학생','교환학생']\n",
    "\n",
    "df['유학생교환학생수강제한'] = 0\n",
    "\n",
    "def filter_text(raw_text):\n",
    "    # 텍스트 내 공백 제거\n",
    "    text = raw_text.replace(\" \", \"\")\n",
    "    # 키워드 포함 여부 확인\n",
    "    return any(keyword in text for keyword in keywords)\n",
    "\n",
    "# DataFrame에 두 컬럼에 대해 조건 적용\n",
    "df['유학생교환학생수강제한'] = df.apply(\n",
    "    lambda row: 1 if (filter_text(row['비고']) or filter_text(row['수강신청유의사항'])) else 0, \n",
    "    axis=1\n",
    ")\n",
    "    \n",
    "# filtered_rows = df[df['비고'].apply(filter_text)]\n",
    "# for row in range(len(filtered_rows)):\n",
    "#     print(f\"{filtered_rows.iloc[row, 0]}, {filtered_rows.iloc[row, 1]}, {filtered_rows.iloc[row, 3]}\")\n",
    "#     print('-----------')"
   ]
  },
  {
   "cell_type": "code",
   "execution_count": 256,
   "id": "5bbe0d32-3f40-450e-a3d7-0dd4165d3849",
   "metadata": {},
   "outputs": [
    {
     "data": {
      "text/plain": [
       "유학생교환학생수강제한\n",
       "0    537\n",
       "1     32\n",
       "Name: count, dtype: int64"
      ]
     },
     "execution_count": 256,
     "metadata": {},
     "output_type": "execute_result"
    }
   ],
   "source": [
    "df.유학생교환학생수강제한.value_counts()"
   ]
  },
  {
   "cell_type": "markdown",
   "id": "d9c942ba-2b31-4c85-854a-ee81d166a9a1",
   "metadata": {},
   "source": [
    "### 1교시 여부, 월/금요일 여부"
   ]
  },
  {
   "cell_type": "code",
   "execution_count": 257,
   "id": "2cdcf65f-39b0-44fc-a776-45a27faf8fda",
   "metadata": {},
   "outputs": [],
   "source": [
    "# 9시에 시작하는 수업\n",
    "df['수업시간대'] = df['수업시간대'].fillna('')  # NaN을 빈 문자열로 대체\n",
    "df['1교시여부'] = df['수업시간대'].apply(lambda x: 1 if '09:00' in x else 0)\n",
    "\n",
    "# 월요일에 여는 수업\n",
    "df['수업요일'] = df['수업요일'].fillna('')  # NaN을 빈 문자열로 대체\n",
    "df['월요일여부'] = df['수업요일'].apply(lambda x: 1 if '월' in x else 0)\n",
    "\n",
    "# 금요일에 여는 수업\n",
    "df['금요일여부'] = df['수업요일'].apply(lambda x: 1 if '금' in x else 0)"
   ]
  },
  {
   "cell_type": "code",
   "execution_count": 258,
   "id": "1efc5821-b077-45d6-8c9c-32ab840118e6",
   "metadata": {},
   "outputs": [
    {
     "name": "stdout",
     "output_type": "stream",
     "text": [
      "1교시여부\n",
      "0    502\n",
      "1     67\n",
      "Name: count, dtype: int64\n",
      "월요일여부\n",
      "0    464\n",
      "1    105\n",
      "Name: count, dtype: int64\n",
      "금요일여부\n",
      "0    518\n",
      "1     51\n",
      "Name: count, dtype: int64\n"
     ]
    }
   ],
   "source": [
    "print(df['1교시여부'].value_counts())\n",
    "print(df['월요일여부'].value_counts())\n",
    "print(df['금요일여부'].value_counts())"
   ]
  },
  {
   "cell_type": "markdown",
   "id": "ff4ba97a-0dbb-4524-a9f4-a7afdd894493",
   "metadata": {},
   "source": [
    "### 이론강의팀플존재여부"
   ]
  },
  {
   "cell_type": "code",
   "execution_count": 259,
   "id": "bec4639c-0fee-4d94-8c2c-e1c1f1d28697",
   "metadata": {},
   "outputs": [
    {
     "name": "stdout",
     "output_type": "stream",
     "text": [
      "강의유형\n",
      "이론       491\n",
      "이론+실습     78\n",
      "Name: count, dtype: int64\n"
     ]
    }
   ],
   "source": [
    "print(df.강의유형.value_counts())"
   ]
  },
  {
   "cell_type": "code",
   "execution_count": 260,
   "id": "34e45cd8-cda2-4e34-b9e4-288d7789e78a",
   "metadata": {
    "scrolled": true
   },
   "outputs": [],
   "source": [
    "df['이론강의팀플존재여부'] = 0\n",
    "\n",
    "for i in range(len(df)):\n",
    "    if df.loc[i,'조별과제존재여부'] == 1 and df.loc[i,'강의유형'] == '이론':\n",
    "        df.loc[i,'이론강의팀플존재여부'] = 1"
   ]
  },
  {
   "cell_type": "code",
   "execution_count": 261,
   "id": "ffa06234-1cb4-4b7c-8fd5-eac94d6060b3",
   "metadata": {},
   "outputs": [
    {
     "data": {
      "text/plain": [
       "이론강의팀플존재여부\n",
       "0    549\n",
       "1     20\n",
       "Name: count, dtype: int64"
      ]
     },
     "execution_count": 261,
     "metadata": {},
     "output_type": "execute_result"
    }
   ],
   "source": [
    "df.이론강의팀플존재여부.value_counts()"
   ]
  },
  {
   "cell_type": "markdown",
   "id": "94bbc849-0476-4a69-97dd-de311f0691f3",
   "metadata": {},
   "source": [
    "### 법학관, 산학관 여부"
   ]
  },
  {
   "cell_type": "code",
   "execution_count": 262,
   "id": "466e5b49-4664-4ca4-a539-27b7f0ee109a",
   "metadata": {},
   "outputs": [
    {
     "data": {
      "text/plain": [
       "건물명\n",
       "법학관         209\n",
       "산학협동관       198\n",
       "온라인          81\n",
       "상허관          29\n",
       "체육관          15\n",
       "새천년관         12\n",
       "법학관, 법학관     10\n",
       "교육과학관         4\n",
       "생명과학관         4\n",
       "해봉부동산학관       3\n",
       "B공학관          2\n",
       "인문학관          1\n",
       "A공학관          1\n",
       "Name: count, dtype: int64"
      ]
     },
     "execution_count": 262,
     "metadata": {},
     "output_type": "execute_result"
    }
   ],
   "source": [
    "df.건물명.value_counts()"
   ]
  },
  {
   "cell_type": "code",
   "execution_count": 263,
   "id": "34d28cc8-0385-4596-991a-163ffe9b2211",
   "metadata": {},
   "outputs": [],
   "source": [
    "# 법학관에서 여는 수업\n",
    "df['법학관'] = df['건물명'].apply(lambda x: 1 if '법학관' in x else 0)\n",
    "\n",
    "# 산학협동관에 여는 수업\n",
    "df['산학협동관'] = df['건물명'].apply(lambda x: 1 if x == '산학협동관' else 0)"
   ]
  },
  {
   "cell_type": "code",
   "execution_count": 264,
   "id": "e275222e-55f0-436b-8814-574163524603",
   "metadata": {},
   "outputs": [
    {
     "name": "stdout",
     "output_type": "stream",
     "text": [
      "법학관\n",
      "0    350\n",
      "1    219\n",
      "Name: count, dtype: int64\n",
      "산학협동관\n",
      "0    371\n",
      "1    198\n",
      "Name: count, dtype: int64\n"
     ]
    }
   ],
   "source": [
    "print(df['법학관'].value_counts())\n",
    "print(df['산학협동관'].value_counts())"
   ]
  },
  {
   "cell_type": "markdown",
   "id": "041b75ae-1ac2-42ff-9cc2-6796ff87758a",
   "metadata": {},
   "source": [
    "## 변수 전처리"
   ]
  },
  {
   "cell_type": "markdown",
   "id": "14fb0cb6-9d2d-496a-bda6-6847ba29c580",
   "metadata": {
    "jp-MarkdownHeadingCollapsed": true
   },
   "source": [
    "### 층"
   ]
  },
  {
   "cell_type": "code",
   "execution_count": 265,
   "id": "9d8d1160-3ccf-4304-919f-3d6aceca200f",
   "metadata": {},
   "outputs": [
    {
     "data": {
      "text/plain": [
       "array(['2', '1', '온라인', '5', '3', '2, 2', '4'], dtype=object)"
      ]
     },
     "execution_count": 265,
     "metadata": {},
     "output_type": "execute_result"
    }
   ],
   "source": [
    "df.층.unique()"
   ]
  },
  {
   "cell_type": "code",
   "execution_count": 266,
   "id": "5bf1b986-c484-45ac-b8b8-64e0633933d8",
   "metadata": {},
   "outputs": [],
   "source": [
    "df['층'] = df['층'].apply(lambda text: max(map(int, text.split(','))) if text != '온라인' else 0)"
   ]
  },
  {
   "cell_type": "code",
   "execution_count": 267,
   "id": "419f0e3b-6386-4716-a0f5-da329d222cc6",
   "metadata": {},
   "outputs": [
    {
     "data": {
      "text/plain": [
       "층\n",
       "2    385\n",
       "0     81\n",
       "1     52\n",
       "3     45\n",
       "5      3\n",
       "4      3\n",
       "Name: count, dtype: int64"
      ]
     },
     "execution_count": 267,
     "metadata": {},
     "output_type": "execute_result"
    }
   ],
   "source": [
    "df['층'].value_counts()"
   ]
  },
  {
   "cell_type": "code",
   "execution_count": 268,
   "id": "167315b3-0fdc-47f0-9d44-271786c5d3d5",
   "metadata": {},
   "outputs": [
    {
     "data": {
      "text/html": [
       "<div>\n",
       "<style scoped>\n",
       "    .dataframe tbody tr th:only-of-type {\n",
       "        vertical-align: middle;\n",
       "    }\n",
       "\n",
       "    .dataframe tbody tr th {\n",
       "        vertical-align: top;\n",
       "    }\n",
       "\n",
       "    .dataframe thead th {\n",
       "        text-align: right;\n",
       "    }\n",
       "</style>\n",
       "<table border=\"1\" class=\"dataframe\">\n",
       "  <thead>\n",
       "    <tr style=\"text-align: right;\">\n",
       "      <th></th>\n",
       "      <th>연도</th>\n",
       "      <th>과목번호</th>\n",
       "      <th>교과목명</th>\n",
       "      <th>건물명</th>\n",
       "    </tr>\n",
       "  </thead>\n",
       "  <tbody>\n",
       "  </tbody>\n",
       "</table>\n",
       "</div>"
      ],
      "text/plain": [
       "Empty DataFrame\n",
       "Columns: [연도, 과목번호, 교과목명, 건물명]\n",
       "Index: []"
      ]
     },
     "execution_count": 268,
     "metadata": {},
     "output_type": "execute_result"
    }
   ],
   "source": [
    "df[df['층']==9][['연도','과목번호','교과목명','건물명']]"
   ]
  },
  {
   "cell_type": "markdown",
   "id": "48ad6371-3401-4fbe-836b-8a254424ff75",
   "metadata": {},
   "source": [
    "## 최종"
   ]
  },
  {
   "cell_type": "code",
   "execution_count": 269,
   "id": "dc48a80e-14ea-4509-b585-7b9ded7307ce",
   "metadata": {},
   "outputs": [
    {
     "data": {
      "text/plain": [
       "Index(['연도', '과목번호', '교과목명', '학점', '시간', '강의종류', '강의유형', '교양영역', '전체학년 제한인원',\n",
       "       '전체학년 수강바구니', '전체학년 경쟁률', '2학년 제한인원', '2학년 수강바구니', '2학년 경쟁률',\n",
       "       '1학년 제한인원', '1학년 수강바구니', '1학년 경쟁률', '수업요일', '건물명', '일주일 중 수업횟수',\n",
       "       '수업시간대', '층', '분반 개수', '패스과목', '원어강의', '절대평가 유무', '점심시간 포함 개수',\n",
       "       '저학년 경쟁률', '비고', '수강신청유의사항', '평가비율', '교재', '과제내용', '과제수', '주별강의계획서',\n",
       "       '중간고사', '기말고사', '담당교수', '학수번호', '선수과목존재여부', '조별과제존재여부', '지필고사대체여부',\n",
       "       '수강대상보호', '유학생교환학생수강제한', '1교시여부', '월요일여부', '금요일여부', '이론강의팀플존재여부', '법학관',\n",
       "       '산학협동관'],\n",
       "      dtype='object')"
      ]
     },
     "execution_count": 269,
     "metadata": {},
     "output_type": "execute_result"
    }
   ],
   "source": [
    "df.columns"
   ]
  },
  {
   "cell_type": "code",
   "execution_count": 270,
   "id": "401a6f67-ad50-47b4-bc9a-08d44823d2f8",
   "metadata": {},
   "outputs": [
    {
     "data": {
      "text/plain": [
       "(569, 50)"
      ]
     },
     "execution_count": 270,
     "metadata": {},
     "output_type": "execute_result"
    }
   ],
   "source": [
    "df.shape"
   ]
  },
  {
   "cell_type": "code",
   "execution_count": 271,
   "id": "ebb80571-106f-42cb-ba4c-c8de70507668",
   "metadata": {},
   "outputs": [],
   "source": [
    "df.to_csv('심교_저학년_통합_1202.csv',index=False,encoding='cp949')"
   ]
  },
  {
   "cell_type": "markdown",
   "id": "13fa1c7a-e28d-41a8-b15e-e0b345cc340a",
   "metadata": {},
   "source": [
    "불필요한 컬럼은 제거합니다."
   ]
  },
  {
   "cell_type": "code",
   "execution_count": 272,
   "id": "d43f8965-8ed0-4795-834b-d3db6fc47233",
   "metadata": {},
   "outputs": [],
   "source": [
    "light_df = df.drop(columns=['수업요일','건물명','수업시간대',\n",
    "                            '비고','수강신청유의사항','평가비율','교재','과제내용','주별강의계획서','중간고사','기말고사'])"
   ]
  },
  {
   "cell_type": "code",
   "execution_count": 273,
   "id": "a0a84cf8-7418-4ed1-95fc-71e62a49ccb4",
   "metadata": {},
   "outputs": [
    {
     "data": {
      "text/plain": [
       "(569, 39)"
      ]
     },
     "execution_count": 273,
     "metadata": {},
     "output_type": "execute_result"
    }
   ],
   "source": [
    "light_df.shape"
   ]
  },
  {
   "cell_type": "code",
   "execution_count": 274,
   "id": "3e873807-f89f-4f83-a132-44ebeafc9260",
   "metadata": {},
   "outputs": [
    {
     "data": {
      "text/plain": [
       "0"
      ]
     },
     "execution_count": 274,
     "metadata": {},
     "output_type": "execute_result"
    }
   ],
   "source": [
    "sum(list(light_df.isnull().sum()))"
   ]
  },
  {
   "cell_type": "code",
   "execution_count": 275,
   "id": "b7781d10-a8d0-4188-b432-3b8dc778ae2c",
   "metadata": {},
   "outputs": [],
   "source": [
    "light_df.to_csv('심교_저학년_실사용_1202.csv',index=False,encoding='cp949')"
   ]
  }
 ],
 "metadata": {
  "kernelspec": {
   "display_name": "Python 3 (ipykernel)",
   "language": "python",
   "name": "python3"
  },
  "language_info": {
   "codemirror_mode": {
    "name": "ipython",
    "version": 3
   },
   "file_extension": ".py",
   "mimetype": "text/x-python",
   "name": "python",
   "nbconvert_exporter": "python",
   "pygments_lexer": "ipython3",
   "version": "3.10.11"
  }
 },
 "nbformat": 4,
 "nbformat_minor": 5
}
