{
 "cells": [
  {
   "cell_type": "code",
   "execution_count": 11,
   "id": "5204f292",
   "metadata": {},
   "outputs": [],
   "source": [
    "import pandas as pd"
   ]
  },
  {
   "cell_type": "code",
   "execution_count": 25,
   "id": "36002ffc",
   "metadata": {},
   "outputs": [],
   "source": [
    "df_sim_low = pd.read_csv('심교(저학년) 패널 데이터.csv')\n",
    "df_sim_high = pd.read_csv('심교(고학년) 패널 데이터.csv')\n",
    "df_jeon = pd.read_csv('전선 패널 데이터.csv')"
   ]
  },
  {
   "cell_type": "code",
   "execution_count": 26,
   "id": "b436fa7b",
   "metadata": {
    "scrolled": true
   },
   "outputs": [
    {
     "name": "stdout",
     "output_type": "stream",
     "text": [
      "<class 'pandas.core.frame.DataFrame'>\n",
      "RangeIndex: 3530 entries, 0 to 3529\n",
      "Data columns (total 45 columns):\n",
      " #   Column      Non-Null Count  Dtype  \n",
      "---  ------      --------------  -----  \n",
      " 0   년도          3530 non-null   int64  \n",
      " 1   학기          3530 non-null   object \n",
      " 2   학수번호        3530 non-null   object \n",
      " 3   이수구분        3530 non-null   object \n",
      " 4   과목번호        3530 non-null   int64  \n",
      " 5   교과목명        3530 non-null   object \n",
      " 6   영문교과목명      3530 non-null   object \n",
      " 7   학점          3530 non-null   int64  \n",
      " 8   시간          3530 non-null   int64  \n",
      " 9   개설학년        3530 non-null   float64\n",
      " 10  수강학과        3530 non-null   object \n",
      " 11  개설학과        3530 non-null   object \n",
      " 12  제청학과        3530 non-null   object \n",
      " 13  강의종류        3530 non-null   object \n",
      " 14  강의유형        3530 non-null   object \n",
      " 15  교강사명        3530 non-null   object \n",
      " 16  강의요시        3530 non-null   object \n",
      " 17  총수강인원       3530 non-null   int64  \n",
      " 18  (학부)수강인원    3530 non-null   int64  \n",
      " 19  (대학원)수강인원   3530 non-null   int64  \n",
      " 20  전체학년 제한인원   3530 non-null   int64  \n",
      " 21  전체학년 수강바구니  3530 non-null   int64  \n",
      " 22  전체학년 경쟁률    3530 non-null   float64\n",
      " 23  4학년 제한인원    3530 non-null   int64  \n",
      " 24  4학년 수강바구니   3530 non-null   int64  \n",
      " 25  4학년 경쟁률     3530 non-null   float64\n",
      " 26  3학년 제한인원    3530 non-null   int64  \n",
      " 27  3학년 수강바구니   3530 non-null   int64  \n",
      " 28  3학년 경쟁률     3530 non-null   float64\n",
      " 29  2학년 제한인원    3530 non-null   float64\n",
      " 30  2학년 수강바구니   3530 non-null   int64  \n",
      " 31  2학년 경쟁률     3530 non-null   float64\n",
      " 32  1학년 제한인원    3530 non-null   float64\n",
      " 33  1학년 수강바구니   3530 non-null   int64  \n",
      " 34  1학년 경쟁률     3530 non-null   float64\n",
      " 35  요일          3515 non-null   object \n",
      " 36  건물명         3515 non-null   object \n",
      " 37  일주일 중 수업횟수  3530 non-null   float64\n",
      " 38  시간대         3515 non-null   object \n",
      " 39  층           3515 non-null   object \n",
      " 40  분반 개수       3530 non-null   int64  \n",
      " 41  영어강의        3530 non-null   float64\n",
      " 42  절대평가 유무     3530 non-null   int64  \n",
      " 43  점심시간 포함 개수  3530 non-null   int64  \n",
      " 44  고학년         3530 non-null   int64  \n",
      "dtypes: float64(10), int64(19), object(16)\n",
      "memory usage: 1.2+ MB\n"
     ]
    }
   ],
   "source": [
    "df_jeon.info()"
   ]
  },
  {
   "cell_type": "code",
   "execution_count": 27,
   "id": "b16f9083",
   "metadata": {},
   "outputs": [
    {
     "data": {
      "text/plain": [
       "array(['상허교양대학'], dtype=object)"
      ]
     },
     "execution_count": 27,
     "metadata": {},
     "output_type": "execute_result"
    }
   ],
   "source": [
    "df_sim_low['개설학과'].unique()"
   ]
  },
  {
   "cell_type": "code",
   "execution_count": 28,
   "id": "92a32687",
   "metadata": {},
   "outputs": [
    {
     "data": {
      "text/plain": [
       "array(['상허교양대학'], dtype=object)"
      ]
     },
     "execution_count": 28,
     "metadata": {},
     "output_type": "execute_result"
    }
   ],
   "source": [
    "df_sim_high['개설학과'].unique()"
   ]
  },
  {
   "cell_type": "code",
   "execution_count": 44,
   "id": "62e48d39",
   "metadata": {
    "scrolled": false
   },
   "outputs": [
    {
     "data": {
      "text/plain": [
       "array(['유럽문화학연계전공', '휴먼ICT연계전공', '글로벌MICE연계전공', '인문상담치유연계전공',\n",
       "       '통일인문교육연계전공', '국어국문학과', '영어영문학과', '중어중문학과', '철학과', '사학과',\n",
       "       '문화콘텐츠학과', '미디어커뮤니케이션학과', '지리학과', '컴퓨터공학부', '사회환경공학부', '생물공학과',\n",
       "       '산업공학과', '전기전자공학부', '화학공학부', 'K뷰티산업융합학과', '기계항공공학부', '신산업융합학과',\n",
       "       '산업디자인학과', '의상디자인학과', '현대미술학과', '커뮤니케이션디자인학과', '영상영화학과', '일어교육과',\n",
       "       '수학교육과', '체육교육과', '음악교육과', '영어교육과', '교육공학과', '수의과대학', '수의학과',\n",
       "       '물리학과', '화학과', '수학과', '생명과학특성학과', '동물자원과학과', '식량자원과학과',\n",
       "       '축산식품생명공학과', '식품유통공학과', '환경보건과학과', '산림조경학과', '미래에너지공학과',\n",
       "       '스마트운행체공학과', '스마트ICT융합공학과', '화장품공학과', '줄기세포재생공학과', '의생명공학과',\n",
       "       '시스템생명공학과', '융합생명공학과', '경영학과', '기술경영학과', '리빙디자인학과', '건축학부',\n",
       "       '융합인재학부', '정치외교학과', '행정학과', '경제학과', '국제무역학과', '응용통계학과', '융합인재학과',\n",
       "       '글로벌비즈니스학과', '부동산학과', '반려동물융합전공', '융합치유전공', '도시디자인융합전공',\n",
       "       '실감미디어콘텐츠융합전공', '실감미디어공학융합전공'], dtype=object)"
      ]
     },
     "execution_count": 44,
     "metadata": {},
     "output_type": "execute_result"
    }
   ],
   "source": [
    "df_jeon[df_jeon['년도']==2022]['개설학과'].unique()"
   ]
  },
  {
   "cell_type": "code",
   "execution_count": 40,
   "id": "47c7fc7e",
   "metadata": {},
   "outputs": [
    {
     "data": {
      "text/html": [
       "<div>\n",
       "<style scoped>\n",
       "    .dataframe tbody tr th:only-of-type {\n",
       "        vertical-align: middle;\n",
       "    }\n",
       "\n",
       "    .dataframe tbody tr th {\n",
       "        vertical-align: top;\n",
       "    }\n",
       "\n",
       "    .dataframe thead th {\n",
       "        text-align: right;\n",
       "    }\n",
       "</style>\n",
       "<table border=\"1\" class=\"dataframe\">\n",
       "  <thead>\n",
       "    <tr style=\"text-align: right;\">\n",
       "      <th></th>\n",
       "      <th>년도</th>\n",
       "      <th>학기</th>\n",
       "      <th>학수번호</th>\n",
       "      <th>이수구분</th>\n",
       "      <th>과목번호</th>\n",
       "      <th>교과목명</th>\n",
       "      <th>영문교과목명</th>\n",
       "      <th>학점</th>\n",
       "      <th>시간</th>\n",
       "      <th>개설학년</th>\n",
       "      <th>...</th>\n",
       "      <th>요일</th>\n",
       "      <th>건물명</th>\n",
       "      <th>일주일 중 수업횟수</th>\n",
       "      <th>시간대</th>\n",
       "      <th>층</th>\n",
       "      <th>분반 개수</th>\n",
       "      <th>영어강의</th>\n",
       "      <th>절대평가 유무</th>\n",
       "      <th>점심시간 포함 개수</th>\n",
       "      <th>고학년</th>\n",
       "    </tr>\n",
       "  </thead>\n",
       "  <tbody>\n",
       "    <tr>\n",
       "      <th>652</th>\n",
       "      <td>2022</td>\n",
       "      <td>2학기</td>\n",
       "      <td>BIAA62363</td>\n",
       "      <td>전선</td>\n",
       "      <td>3705</td>\n",
       "      <td>통합진단학1</td>\n",
       "      <td>INTEGRATED DIAGNOSTICS 1</td>\n",
       "      <td>1</td>\n",
       "      <td>2</td>\n",
       "      <td>3.0</td>\n",
       "      <td>...</td>\n",
       "      <td>월</td>\n",
       "      <td>수의학관</td>\n",
       "      <td>1.0</td>\n",
       "      <td>17:00~19:00</td>\n",
       "      <td>5</td>\n",
       "      <td>2</td>\n",
       "      <td>0.0</td>\n",
       "      <td>0</td>\n",
       "      <td>0</td>\n",
       "      <td>1</td>\n",
       "    </tr>\n",
       "    <tr>\n",
       "      <th>653</th>\n",
       "      <td>2022</td>\n",
       "      <td>2학기</td>\n",
       "      <td>BIAA62363</td>\n",
       "      <td>전선</td>\n",
       "      <td>3706</td>\n",
       "      <td>통합진단학1</td>\n",
       "      <td>INTEGRATED DIAGNOSTICS 1</td>\n",
       "      <td>1</td>\n",
       "      <td>2</td>\n",
       "      <td>3.0</td>\n",
       "      <td>...</td>\n",
       "      <td>월</td>\n",
       "      <td>수의학관</td>\n",
       "      <td>1.0</td>\n",
       "      <td>17:00~19:00</td>\n",
       "      <td>4</td>\n",
       "      <td>2</td>\n",
       "      <td>0.0</td>\n",
       "      <td>0</td>\n",
       "      <td>0</td>\n",
       "      <td>1</td>\n",
       "    </tr>\n",
       "  </tbody>\n",
       "</table>\n",
       "<p>2 rows × 45 columns</p>\n",
       "</div>"
      ],
      "text/plain": [
       "       년도   학기       학수번호 이수구분  과목번호    교과목명                    영문교과목명  학점  \\\n",
       "652  2022  2학기  BIAA62363   전선  3705  통합진단학1  INTEGRATED DIAGNOSTICS 1   1   \n",
       "653  2022  2학기  BIAA62363   전선  3706  통합진단학1  INTEGRATED DIAGNOSTICS 1   1   \n",
       "\n",
       "     시간  개설학년  ... 요일   건물명 일주일 중 수업횟수          시간대  층 분반 개수 영어강의  절대평가 유무  \\\n",
       "652   2   3.0  ...  월  수의학관        1.0  17:00~19:00  5     2  0.0        0   \n",
       "653   2   3.0  ...  월  수의학관        1.0  17:00~19:00  4     2  0.0        0   \n",
       "\n",
       "     점심시간 포함 개수  고학년  \n",
       "652           0    1  \n",
       "653           0    1  \n",
       "\n",
       "[2 rows x 45 columns]"
      ]
     },
     "execution_count": 40,
     "metadata": {},
     "output_type": "execute_result"
    }
   ],
   "source": [
    "df_jeon[(df_jeon['년도']==2022)&(df_jeon['개설학과']=='수의과대학')]"
   ]
  },
  {
   "cell_type": "code",
   "execution_count": 41,
   "id": "701ec0dd",
   "metadata": {},
   "outputs": [
    {
     "data": {
      "text/html": [
       "<div>\n",
       "<style scoped>\n",
       "    .dataframe tbody tr th:only-of-type {\n",
       "        vertical-align: middle;\n",
       "    }\n",
       "\n",
       "    .dataframe tbody tr th {\n",
       "        vertical-align: top;\n",
       "    }\n",
       "\n",
       "    .dataframe thead th {\n",
       "        text-align: right;\n",
       "    }\n",
       "</style>\n",
       "<table border=\"1\" class=\"dataframe\">\n",
       "  <thead>\n",
       "    <tr style=\"text-align: right;\">\n",
       "      <th></th>\n",
       "      <th>년도</th>\n",
       "      <th>학기</th>\n",
       "      <th>학수번호</th>\n",
       "      <th>이수구분</th>\n",
       "      <th>과목번호</th>\n",
       "      <th>교과목명</th>\n",
       "      <th>영문교과목명</th>\n",
       "      <th>학점</th>\n",
       "      <th>시간</th>\n",
       "      <th>개설학년</th>\n",
       "      <th>...</th>\n",
       "      <th>요일</th>\n",
       "      <th>건물명</th>\n",
       "      <th>일주일 중 수업횟수</th>\n",
       "      <th>시간대</th>\n",
       "      <th>층</th>\n",
       "      <th>분반 개수</th>\n",
       "      <th>영어강의</th>\n",
       "      <th>절대평가 유무</th>\n",
       "      <th>점심시간 포함 개수</th>\n",
       "      <th>고학년</th>\n",
       "    </tr>\n",
       "  </thead>\n",
       "  <tbody>\n",
       "    <tr>\n",
       "      <th>976</th>\n",
       "      <td>2022</td>\n",
       "      <td>2학기</td>\n",
       "      <td>BQAC53318</td>\n",
       "      <td>전선</td>\n",
       "      <td>4061</td>\n",
       "      <td>동서양의사상과윤리</td>\n",
       "      <td>THOUGHTS AND ETHICS OF THE EAST AND THE WEST</td>\n",
       "      <td>3</td>\n",
       "      <td>3</td>\n",
       "      <td>4.0</td>\n",
       "      <td>...</td>\n",
       "      <td>금</td>\n",
       "      <td>상허관</td>\n",
       "      <td>1.0</td>\n",
       "      <td>12:00~15:00</td>\n",
       "      <td>3</td>\n",
       "      <td>1</td>\n",
       "      <td>0.0</td>\n",
       "      <td>0</td>\n",
       "      <td>1</td>\n",
       "      <td>1</td>\n",
       "    </tr>\n",
       "    <tr>\n",
       "      <th>977</th>\n",
       "      <td>2022</td>\n",
       "      <td>2학기</td>\n",
       "      <td>BQAC54765</td>\n",
       "      <td>전선</td>\n",
       "      <td>4062</td>\n",
       "      <td>법과문화</td>\n",
       "      <td>LAW AND CULTURE</td>\n",
       "      <td>3</td>\n",
       "      <td>3</td>\n",
       "      <td>4.0</td>\n",
       "      <td>...</td>\n",
       "      <td>월, 수</td>\n",
       "      <td>상허관, 상허관</td>\n",
       "      <td>2.0</td>\n",
       "      <td>12:00~13:30, 13:30~15:00</td>\n",
       "      <td>3, 3</td>\n",
       "      <td>1</td>\n",
       "      <td>0.0</td>\n",
       "      <td>0</td>\n",
       "      <td>1</td>\n",
       "      <td>1</td>\n",
       "    </tr>\n",
       "    <tr>\n",
       "      <th>2151</th>\n",
       "      <td>2023</td>\n",
       "      <td>2학기</td>\n",
       "      <td>BQAC53318</td>\n",
       "      <td>전선</td>\n",
       "      <td>4058</td>\n",
       "      <td>동서양의사상과윤리</td>\n",
       "      <td>THOUGHTS AND ETHICS OF THE EAST AND THE WEST</td>\n",
       "      <td>3</td>\n",
       "      <td>3</td>\n",
       "      <td>4.0</td>\n",
       "      <td>...</td>\n",
       "      <td>화, 금</td>\n",
       "      <td>상허관, 상허관</td>\n",
       "      <td>2.0</td>\n",
       "      <td>17:00~18:00, 13:00~15:00</td>\n",
       "      <td>3, 3</td>\n",
       "      <td>1</td>\n",
       "      <td>0.0</td>\n",
       "      <td>0</td>\n",
       "      <td>1</td>\n",
       "      <td>1</td>\n",
       "    </tr>\n",
       "    <tr>\n",
       "      <th>2152</th>\n",
       "      <td>2023</td>\n",
       "      <td>2학기</td>\n",
       "      <td>BQAC54765</td>\n",
       "      <td>전선</td>\n",
       "      <td>4059</td>\n",
       "      <td>법과문화</td>\n",
       "      <td>LAW AND CULTURE</td>\n",
       "      <td>3</td>\n",
       "      <td>3</td>\n",
       "      <td>4.0</td>\n",
       "      <td>...</td>\n",
       "      <td>월, 수</td>\n",
       "      <td>상허관, 상허관</td>\n",
       "      <td>2.0</td>\n",
       "      <td>12:00~13:30, 13:30~15:00</td>\n",
       "      <td>3, 3</td>\n",
       "      <td>1</td>\n",
       "      <td>0.0</td>\n",
       "      <td>0</td>\n",
       "      <td>1</td>\n",
       "      <td>1</td>\n",
       "    </tr>\n",
       "  </tbody>\n",
       "</table>\n",
       "<p>4 rows × 45 columns</p>\n",
       "</div>"
      ],
      "text/plain": [
       "        년도   학기       학수번호 이수구분  과목번호       교과목명  \\\n",
       "976   2022  2학기  BQAC53318   전선  4061  동서양의사상과윤리   \n",
       "977   2022  2학기  BQAC54765   전선  4062       법과문화   \n",
       "2151  2023  2학기  BQAC53318   전선  4058  동서양의사상과윤리   \n",
       "2152  2023  2학기  BQAC54765   전선  4059       법과문화   \n",
       "\n",
       "                                            영문교과목명  학점  시간  개설학년  ...    요일  \\\n",
       "976   THOUGHTS AND ETHICS OF THE EAST AND THE WEST   3   3   4.0  ...     금   \n",
       "977                                LAW AND CULTURE   3   3   4.0  ...  월, 수   \n",
       "2151  THOUGHTS AND ETHICS OF THE EAST AND THE WEST   3   3   4.0  ...  화, 금   \n",
       "2152                               LAW AND CULTURE   3   3   4.0  ...  월, 수   \n",
       "\n",
       "           건물명 일주일 중 수업횟수                       시간대     층 분반 개수 영어강의  절대평가 유무  \\\n",
       "976        상허관        1.0               12:00~15:00     3     1  0.0        0   \n",
       "977   상허관, 상허관        2.0  12:00~13:30, 13:30~15:00  3, 3     1  0.0        0   \n",
       "2151  상허관, 상허관        2.0  17:00~18:00, 13:00~15:00  3, 3     1  0.0        0   \n",
       "2152  상허관, 상허관        2.0  12:00~13:30, 13:30~15:00  3, 3     1  0.0        0   \n",
       "\n",
       "      점심시간 포함 개수  고학년  \n",
       "976            1    1  \n",
       "977            1    1  \n",
       "2151           1    1  \n",
       "2152           1    1  \n",
       "\n",
       "[4 rows x 45 columns]"
      ]
     },
     "execution_count": 41,
     "metadata": {},
     "output_type": "execute_result"
    }
   ],
   "source": [
    "df_jeon[df_jeon['개설학과']=='융합인재학부']"
   ]
  },
  {
   "cell_type": "code",
   "execution_count": null,
   "id": "567e044f",
   "metadata": {},
   "outputs": [],
   "source": []
  },
  {
   "cell_type": "code",
   "execution_count": null,
   "id": "0d1ab844",
   "metadata": {},
   "outputs": [],
   "source": []
  },
  {
   "cell_type": "code",
   "execution_count": null,
   "id": "65ab56e8",
   "metadata": {},
   "outputs": [],
   "source": []
  },
  {
   "cell_type": "code",
   "execution_count": null,
   "id": "0af89379",
   "metadata": {},
   "outputs": [],
   "source": []
  },
  {
   "cell_type": "markdown",
   "id": "82cc972b",
   "metadata": {},
   "source": [
    "# 재학생 통계"
   ]
  },
  {
   "cell_type": "code",
   "execution_count": null,
   "id": "698f586e",
   "metadata": {},
   "outputs": [],
   "source": []
  }
 ],
 "metadata": {
  "kernelspec": {
   "display_name": "Python 3 (ipykernel)",
   "language": "python",
   "name": "python3"
  },
  "language_info": {
   "codemirror_mode": {
    "name": "ipython",
    "version": 3
   },
   "file_extension": ".py",
   "mimetype": "text/x-python",
   "name": "python",
   "nbconvert_exporter": "python",
   "pygments_lexer": "ipython3",
   "version": "3.11.5"
  }
 },
 "nbformat": 4,
 "nbformat_minor": 5
}
