{
 "cells": [
  {
   "cell_type": "code",
   "execution_count": 241,
   "id": "df1927fc-7e41-494e-9f88-b874ae378e89",
   "metadata": {},
   "outputs": [],
   "source": [
    "import pandas as pd\n",
    "import numpy as np\n",
    "import ast\n",
    "import matplotlib.pyplot as plt"
   ]
  },
  {
   "cell_type": "code",
   "execution_count": 205,
   "id": "5e6eb485-db5f-4a6f-b53a-63b32d87795f",
   "metadata": {},
   "outputs": [],
   "source": [
    "df = pd.read_csv('강의계획서_전선.csv',encoding='cp949')"
   ]
  },
  {
   "cell_type": "code",
   "execution_count": 206,
   "id": "89aa0b53-2d53-4959-a72f-7dfd2408af55",
   "metadata": {},
   "outputs": [
    {
     "data": {
      "text/html": [
       "<div>\n",
       "<style scoped>\n",
       "    .dataframe tbody tr th:only-of-type {\n",
       "        vertical-align: middle;\n",
       "    }\n",
       "\n",
       "    .dataframe tbody tr th {\n",
       "        vertical-align: top;\n",
       "    }\n",
       "\n",
       "    .dataframe thead th {\n",
       "        text-align: right;\n",
       "    }\n",
       "</style>\n",
       "<table border=\"1\" class=\"dataframe\">\n",
       "  <thead>\n",
       "    <tr style=\"text-align: right;\">\n",
       "      <th></th>\n",
       "      <th>연도</th>\n",
       "      <th>단과대학</th>\n",
       "      <th>과목번호</th>\n",
       "      <th>원어여부</th>\n",
       "      <th>비고</th>\n",
       "      <th>수강신청유의사항</th>\n",
       "      <th>과제비율</th>\n",
       "      <th>교재</th>\n",
       "      <th>과제내용</th>\n",
       "      <th>과제수</th>\n",
       "      <th>주별강의계획서</th>\n",
       "      <th>중간고사</th>\n",
       "      <th>기말고사</th>\n",
       "    </tr>\n",
       "  </thead>\n",
       "  <tbody>\n",
       "    <tr>\n",
       "      <th>0</th>\n",
       "      <td>2022</td>\n",
       "      <td>KU융합과학기술원</td>\n",
       "      <td>3854</td>\n",
       "      <td>영어</td>\n",
       "      <td>미래에너지공학과 우선수강</td>\n",
       "      <td>없음</td>\n",
       "      <td>{'출석률': 10.0, '기말고사비율': 80.0, '과제물비율': 10.0}</td>\n",
       "      <td>NaN</td>\n",
       "      <td>{1: '실험결과를 바탕으로 한 해석', 2: '20191211', 3: ''}</td>\n",
       "      <td>1.0</td>\n",
       "      <td>{1: '08/29 ~ 09/03', 2: 'Introduction', 3: 'Ba...</td>\n",
       "      <td>{'주제': 'Surface characterization II', '강의내용': ...</td>\n",
       "      <td>{'주제': 'Final exam', '강의내용': 'Final exam', '수업...</td>\n",
       "    </tr>\n",
       "    <tr>\n",
       "      <th>1</th>\n",
       "      <td>2022</td>\n",
       "      <td>KU융합과학기술원</td>\n",
       "      <td>3855</td>\n",
       "      <td>영어</td>\n",
       "      <td>미래에너지공학과만 수강</td>\n",
       "      <td>미래에너지공학과 학생만 수강 가능.\\n   ( Only Students of dep...</td>\n",
       "      <td>{'출석률': 20.0, '중간고사비율': 20.0, '기말고사비율': 50.0, ...</td>\n",
       "      <td>{1: '주교재', 2: 'PDF file', 3: '', 4: '', 5: ''}</td>\n",
       "      <td>{1: 'Summary for Literature survey', 2: '20211...</td>\n",
       "      <td>1.0</td>\n",
       "      <td>{1: '08/29 ~ 09/03', 2: 'Introduction', 3: 'In...</td>\n",
       "      <td>{'주제': 'Mid-term exam', '강의내용': 'Mid-term exam...</td>\n",
       "      <td>{'주제': 'Final exam', '강의내용': 'Final exam', '수업...</td>\n",
       "    </tr>\n",
       "    <tr>\n",
       "      <th>2</th>\n",
       "      <td>2022</td>\n",
       "      <td>KU융합과학기술원</td>\n",
       "      <td>3856</td>\n",
       "      <td></td>\n",
       "      <td>미래에너지공학과 우선수강</td>\n",
       "      <td>없음</td>\n",
       "      <td>{'출석률': 10.0, '중간고사비율': 40.0, '기말고사비율': 40.0, ...</td>\n",
       "      <td>{1: '부교재', 2: '기기분석', 3: '정맹준', 4: '드림플러스', 5:...</td>\n",
       "      <td>{1: '나노소재 물성 분석에 대한 최신 기술 동향', 2: '20211206', ...</td>\n",
       "      <td>1.0</td>\n",
       "      <td>{1: '08/29 ~ 09/03', 2: '강의 개요', 3: '기기분석학 소개'...</td>\n",
       "      <td>{'주제': '나노소재  분석기술', '강의내용': '화학적 특성 분석법', '수업...</td>\n",
       "      <td>{'주제': '-', '강의내용': '-', '수업유형': '', '강의활동': ''}</td>\n",
       "    </tr>\n",
       "  </tbody>\n",
       "</table>\n",
       "</div>"
      ],
      "text/plain": [
       "     연도       단과대학  과목번호 원어여부             비고  \\\n",
       "0  2022  KU융합과학기술원  3854   영어  미래에너지공학과 우선수강   \n",
       "1  2022  KU융합과학기술원  3855   영어   미래에너지공학과만 수강   \n",
       "2  2022  KU융합과학기술원  3856       미래에너지공학과 우선수강   \n",
       "\n",
       "                                            수강신청유의사항  \\\n",
       "0                                                 없음   \n",
       "1  미래에너지공학과 학생만 수강 가능.\\n   ( Only Students of dep...   \n",
       "2                                                 없음   \n",
       "\n",
       "                                                과제비율  \\\n",
       "0       {'출석률': 10.0, '기말고사비율': 80.0, '과제물비율': 10.0}   \n",
       "1  {'출석률': 20.0, '중간고사비율': 20.0, '기말고사비율': 50.0, ...   \n",
       "2  {'출석률': 10.0, '중간고사비율': 40.0, '기말고사비율': 40.0, ...   \n",
       "\n",
       "                                                  교재  \\\n",
       "0                                                NaN   \n",
       "1     {1: '주교재', 2: 'PDF file', 3: '', 4: '', 5: ''}   \n",
       "2  {1: '부교재', 2: '기기분석', 3: '정맹준', 4: '드림플러스', 5:...   \n",
       "\n",
       "                                                과제내용  과제수  \\\n",
       "0       {1: '실험결과를 바탕으로 한 해석', 2: '20191211', 3: ''}  1.0   \n",
       "1  {1: 'Summary for Literature survey', 2: '20211...  1.0   \n",
       "2  {1: '나노소재 물성 분석에 대한 최신 기술 동향', 2: '20211206', ...  1.0   \n",
       "\n",
       "                                             주별강의계획서  \\\n",
       "0  {1: '08/29 ~ 09/03', 2: 'Introduction', 3: 'Ba...   \n",
       "1  {1: '08/29 ~ 09/03', 2: 'Introduction', 3: 'In...   \n",
       "2  {1: '08/29 ~ 09/03', 2: '강의 개요', 3: '기기분석학 소개'...   \n",
       "\n",
       "                                                중간고사  \\\n",
       "0  {'주제': 'Surface characterization II', '강의내용': ...   \n",
       "1  {'주제': 'Mid-term exam', '강의내용': 'Mid-term exam...   \n",
       "2  {'주제': '나노소재  분석기술', '강의내용': '화학적 특성 분석법', '수업...   \n",
       "\n",
       "                                                기말고사  \n",
       "0  {'주제': 'Final exam', '강의내용': 'Final exam', '수업...  \n",
       "1  {'주제': 'Final exam', '강의내용': 'Final exam', '수업...  \n",
       "2   {'주제': '-', '강의내용': '-', '수업유형': '', '강의활동': ''}  "
      ]
     },
     "execution_count": 206,
     "metadata": {},
     "output_type": "execute_result"
    }
   ],
   "source": [
    "df.head(3)"
   ]
  },
  {
   "cell_type": "code",
   "execution_count": 207,
   "id": "3a5d2b90-6ff8-43e2-8a09-b761b3e45ec1",
   "metadata": {},
   "outputs": [
    {
     "data": {
      "text/plain": [
       "(3483, 13)"
      ]
     },
     "execution_count": 207,
     "metadata": {},
     "output_type": "execute_result"
    }
   ],
   "source": [
    "df.shape"
   ]
  },
  {
   "cell_type": "code",
   "execution_count": 208,
   "id": "1823cfc3-1bfd-4fa8-bfe1-2787655b4b23",
   "metadata": {},
   "outputs": [
    {
     "data": {
      "text/html": [
       "<div>\n",
       "<style scoped>\n",
       "    .dataframe tbody tr th:only-of-type {\n",
       "        vertical-align: middle;\n",
       "    }\n",
       "\n",
       "    .dataframe tbody tr th {\n",
       "        vertical-align: top;\n",
       "    }\n",
       "\n",
       "    .dataframe thead th {\n",
       "        text-align: right;\n",
       "    }\n",
       "</style>\n",
       "<table border=\"1\" class=\"dataframe\">\n",
       "  <thead>\n",
       "    <tr style=\"text-align: right;\">\n",
       "      <th></th>\n",
       "      <th>연도</th>\n",
       "      <th>단과대학</th>\n",
       "      <th>과목번호</th>\n",
       "      <th>원어여부</th>\n",
       "      <th>비고</th>\n",
       "      <th>수강신청유의사항</th>\n",
       "      <th>과제비율</th>\n",
       "      <th>교재</th>\n",
       "      <th>과제내용</th>\n",
       "      <th>과제수</th>\n",
       "      <th>주별강의계획서</th>\n",
       "      <th>중간고사</th>\n",
       "      <th>기말고사</th>\n",
       "    </tr>\n",
       "  </thead>\n",
       "  <tbody>\n",
       "  </tbody>\n",
       "</table>\n",
       "</div>"
      ],
      "text/plain": [
       "Empty DataFrame\n",
       "Columns: [연도, 단과대학, 과목번호, 원어여부, 비고, 수강신청유의사항, 과제비율, 교재, 과제내용, 과제수, 주별강의계획서, 중간고사, 기말고사]\n",
       "Index: []"
      ]
     },
     "execution_count": 208,
     "metadata": {},
     "output_type": "execute_result"
    }
   ],
   "source": [
    "df[df['수강신청유의사항'] == '#NAME?']"
   ]
  },
  {
   "cell_type": "markdown",
   "id": "f596c002-62bd-4801-902b-dec343db8d81",
   "metadata": {},
   "source": [
    "- 원어강의 여부\n",
    "- 선수과목 존재 여부\n",
    "- 조별과제 존재 여부\n",
    "- 과제 개수\n",
    "- 시험 과제대체 여부\n",
    "- 패논패 여부"
   ]
  },
  {
   "cell_type": "code",
   "execution_count": 209,
   "id": "19eb9818-3d51-4824-9867-dffdbea1326b",
   "metadata": {},
   "outputs": [],
   "source": [
    "# 열 이름 변경\n",
    "df.rename(columns={'과제비율':'평가비율'},inplace=True)"
   ]
  },
  {
   "cell_type": "code",
   "execution_count": 210,
   "id": "ad29fc60-e51c-49c6-895e-31bba16d2818",
   "metadata": {},
   "outputs": [],
   "source": [
    "# 딕셔너리로 저장된 데이터를 str에서 딕셔너리로 변환\n",
    "def convert_to_dictionary(x):\n",
    "    try:\n",
    "        return ast.literal_eval(x)\n",
    "    except Exception:\n",
    "        return x"
   ]
  },
  {
   "cell_type": "code",
   "execution_count": 211,
   "id": "95a5950c-c07d-4c35-9306-5489a05cdd61",
   "metadata": {},
   "outputs": [],
   "source": [
    "df['평가비율'] = df['평가비율'].apply(convert_to_dictionary)\n",
    "df['교재'] = df['교재'].apply(convert_to_dictionary)\n",
    "df['과제내용'] = df['과제내용'].apply(convert_to_dictionary)\n",
    "df['주별강의계획서'] = df['주별강의계획서'].apply(convert_to_dictionary)\n",
    "df['중간고사'] = df['중간고사'].apply(convert_to_dictionary)\n",
    "df['기말고사'] = df['기말고사'].apply(convert_to_dictionary)"
   ]
  },
  {
   "cell_type": "markdown",
   "id": "94703bc3-db48-4f3e-afa4-f5acf8ac7a3e",
   "metadata": {},
   "source": [
    "### 선수과목 존재 여부"
   ]
  },
  {
   "cell_type": "code",
   "execution_count": 212,
   "id": "25fe373e-0ff1-499c-bf15-afc847890a2c",
   "metadata": {},
   "outputs": [],
   "source": [
    "# 결측치 처리\n",
    "df['비고'] = df['비고'].fillna('')\n",
    "df['수강신청유의사항'] = df['수강신청유의사항'].fillna('')"
   ]
  },
  {
   "cell_type": "code",
   "execution_count": 213,
   "id": "c1902618-52d2-4562-adec-1f4a0021e969",
   "metadata": {},
   "outputs": [],
   "source": [
    "keywords = ['선수과목', '선이수', '이수요망', '이수자만', 'prerequisite']\n",
    "no_keywords = ['선수과목이필', '선수과목은필', '선수과목은없', 'keytheories', 'Noprerequisite']\n",
    "\n",
    "def filter_text(raw_text):\n",
    "    # 텍스트 내 공백 제거\n",
    "    text = raw_text.replace(\" \", \"\")\n",
    "    # 키워드 포함 여부 확인\n",
    "    contains_keyword = any(keyword in text for keyword in keywords)\n",
    "    # 제외 키워드 포함 여부 확인\n",
    "    contains_no_keyword = any(no_keyword in text for no_keyword in no_keywords)\n",
    "    # 조건에 따라 T/F 반환\n",
    "    return contains_keyword and not contains_no_keyword\n",
    "\n",
    "# DataFrame에 두 컬럼에 대해 조건 적용\n",
    "df['선수과목존재여부'] = df.apply(\n",
    "    lambda row: 1 if (filter_text(row['비고']) or filter_text(row['수강신청유의사항'])) else 0, \n",
    "    axis=1\n",
    ")"
   ]
  },
  {
   "cell_type": "code",
   "execution_count": 214,
   "id": "778ceabf-cc98-4c74-a3be-7c34a6ae3b1c",
   "metadata": {},
   "outputs": [
    {
     "data": {
      "text/plain": [
       "선수과목존재여부\n",
       "0    3315\n",
       "1     168\n",
       "Name: count, dtype: int64"
      ]
     },
     "execution_count": 214,
     "metadata": {},
     "output_type": "execute_result"
    }
   ],
   "source": [
    "df.선수과목존재여부.value_counts()"
   ]
  },
  {
   "cell_type": "markdown",
   "id": "3d9a7d1d-88b6-4503-98f7-f119c4764dce",
   "metadata": {},
   "source": [
    "### 조별과제 존재 여부"
   ]
  },
  {
   "cell_type": "code",
   "execution_count": 215,
   "id": "081aedae-375c-44a6-af79-e72a3820961c",
   "metadata": {},
   "outputs": [
    {
     "name": "stdout",
     "output_type": "stream",
     "text": [
      "2022년 과목번호: 3877\n",
      "2022년 과목번호: 3381\n",
      "2023년 과목번호: 4315\n"
     ]
    }
   ],
   "source": [
    "# 평가비율이 기재되지 않은 경우 검색\n",
    "for i in range(len(df)):\n",
    "    try:\n",
    "        df['평가비율'][i].keys()\n",
    "        pass\n",
    "    except:\n",
    "        print(f\"{df.loc[i,'연도']}년 과목번호: {df.loc[i,'과목번호']}\")"
   ]
  },
  {
   "cell_type": "markdown",
   "id": "7ce091b2-86d8-491b-8bae-8b4b60309404",
   "metadata": {},
   "source": [
    "- 2022년 과목번호: 3877  =>  ICT서비스제작기획\n",
    "- 2022년 과목번호: 3381  =>  스킨케어연구\r",
    "- 2023년 과목번호: 4315  =>  DESIGN BUSINESS"
   ]
  },
  {
   "cell_type": "code",
   "execution_count": 216,
   "id": "c3c6cb2c-8864-45a3-a3ac-212bfcdd594a",
   "metadata": {
    "scrolled": true
   },
   "outputs": [],
   "source": [
    "# 과목별 평가항목 검색\n",
    "unique_criterion = set()\n",
    "for i in range(len(df)):\n",
    "    try:\n",
    "        criterion = list(df['평가비율'][i].keys())\n",
    "        unique_criterion.update(criterion)\n",
    "    except:\n",
    "        pass"
   ]
  },
  {
   "cell_type": "code",
   "execution_count": 217,
   "id": "459a7db7-f172-4d42-a2d5-b2fda7da2d76",
   "metadata": {},
   "outputs": [],
   "source": [
    "# list(unique_criterion)"
   ]
  },
  {
   "cell_type": "code",
   "execution_count": 218,
   "id": "13254b08-0ecc-4d04-9ea2-121ac7501b75",
   "metadata": {},
   "outputs": [],
   "source": [
    "keywords = ['팀프로젝트', '조별과제', '조별활동', '조별발표', '팀플', '팀원', 'team']\n",
    "\n",
    "def filter_text(raw_text):\n",
    "    # 텍스트 내 공백 제거\n",
    "    text = raw_text.replace(\" \", \"\")\n",
    "    # 키워드 포함 여부 확인\n",
    "    return any(keyword in text for keyword in keywords)\n",
    "\n",
    "# DataFrame에 두 컬럼에 대해 조건 적용\n",
    "df['조별과제존재여부'] = df.apply(\n",
    "    lambda row: 1 if (filter_text(row['비고']) or filter_text(row['수강신청유의사항'])) else 0, \n",
    "    axis=1\n",
    ")"
   ]
  },
  {
   "cell_type": "code",
   "execution_count": 219,
   "id": "e1dfaeb7-149c-44ca-9e40-92fd9feb8280",
   "metadata": {
    "scrolled": true
   },
   "outputs": [],
   "source": [
    "# filtered_rows = df[df['수강신청유의사항'].apply(filter_text)]\n",
    "# for raw_text in filtered_rows['수강신청유의사항']:\n",
    "#     print(raw_text)\n",
    "#     print('-----------')"
   ]
  },
  {
   "cell_type": "code",
   "execution_count": 220,
   "id": "dd1a97ee-db6a-4413-b80d-bb864d7ad674",
   "metadata": {},
   "outputs": [
    {
     "data": {
      "text/plain": [
       "조별과제존재여부\n",
       "0    3319\n",
       "1     164\n",
       "Name: count, dtype: int64"
      ]
     },
     "execution_count": 220,
     "metadata": {},
     "output_type": "execute_result"
    }
   ],
   "source": [
    "df.조별과제존재여부.value_counts()"
   ]
  },
  {
   "cell_type": "markdown",
   "id": "4f442bcf-17fe-4386-8752-03d8d86f78c4",
   "metadata": {},
   "source": [
    "## 시험 과제대체 여부\n",
    "- 해당 교과목들은 과제대체를 중간고사만 하는지, 기말고사만 하는지, 둘 다 하는지는 우선 파악하지 못하였음."
   ]
  },
  {
   "cell_type": "code",
   "execution_count": 221,
   "id": "3960950d-8ece-48f3-9ec7-d414f16696f2",
   "metadata": {},
   "outputs": [],
   "source": [
    "df['시험과제대체여부'] = 0 \n",
    "\n",
    "for i in range(len(df)):\n",
    "    # 딕셔너리로 저장된 데이터의 value 가져오기\n",
    "    try:\n",
    "        mid_exam = df.loc[i,'중간고사'].values()\n",
    "        final_exam = df.loc[i,'기말고사'].values()\n",
    "    except:\n",
    "        pass\n",
    "\n",
    "    # 원소들을 하나의 문자열로 합친 후 공백을 제거하기\n",
    "    mid_text = ''.join(mid_exam).replace(\" \", \"\")\n",
    "    final_text = ''.join(final_exam).replace(\" \", \"\")\n",
    "    text = mid_text + final_text    \n",
    "\n",
    "    # 시험 과제대체 여부 검색\n",
    "    if '대체' in text or '발표' in text or 'project' in text or 'presentation' in text:\n",
    "        df.loc[i,'시험과제대체여부'] = 1\n",
    "    elif '과제대체' in df.loc[i,'수강신청유의사항'] or '대체과제' in df.loc[i,'수강신청유의사항']:\n",
    "        df.loc[i,'시험과제대체여부'] = 1\n",
    "    elif '과제대체' in df.loc[i,'비고'] or '대체과제' in df.loc[i,'비고']:\n",
    "        df.loc[i,'시험과제대체여부'] = 1"
   ]
  },
  {
   "cell_type": "code",
   "execution_count": 222,
   "id": "2809ed4d-1ea0-4153-aa2f-ec9592082bbc",
   "metadata": {},
   "outputs": [
    {
     "data": {
      "text/plain": [
       "시험과제대체여부\n",
       "0    2878\n",
       "1     605\n",
       "Name: count, dtype: int64"
      ]
     },
     "execution_count": 222,
     "metadata": {},
     "output_type": "execute_result"
    }
   ],
   "source": [
    "df.시험과제대체여부.value_counts()"
   ]
  },
  {
   "cell_type": "markdown",
   "id": "73c6eeab-65e2-40d2-b177-fb4ce034b2d4",
   "metadata": {},
   "source": [
    "## 패논패 여부"
   ]
  },
  {
   "cell_type": "code",
   "execution_count": 223,
   "id": "1d88e952-bd19-4d2f-8f9c-dbe245df0655",
   "metadata": {},
   "outputs": [],
   "source": [
    "keywords = ['Pass','P/N','패스과목','pass과목','nonpass']\n",
    "\n",
    "def filter_text(raw_text):\n",
    "    # 텍스트 내 공백 제거\n",
    "    text = raw_text.replace(\" \", \"\")\n",
    "    # 키워드 포함 여부 확인\n",
    "    return any(keyword in text for keyword in keywords)\n",
    "\n",
    "# DataFrame에 두 컬럼에 대해 조건 적용\n",
    "df['패논패여부'] = df.apply(\n",
    "    lambda row: 1 if (filter_text(row['비고']) or filter_text(row['수강신청유의사항'])) else 0, \n",
    "    axis=1\n",
    ")"
   ]
  },
  {
   "cell_type": "code",
   "execution_count": 224,
   "id": "e13d0e8a-83f1-4534-97c0-9ff2cd476017",
   "metadata": {},
   "outputs": [
    {
     "data": {
      "text/plain": [
       "패논패여부\n",
       "0    3477\n",
       "1       6\n",
       "Name: count, dtype: int64"
      ]
     },
     "execution_count": 224,
     "metadata": {},
     "output_type": "execute_result"
    }
   ],
   "source": [
    "df.패논패여부.value_counts()"
   ]
  },
  {
   "cell_type": "markdown",
   "id": "48ad6371-3401-4fbe-836b-8a254424ff75",
   "metadata": {},
   "source": [
    "## 최종"
   ]
  },
  {
   "cell_type": "code",
   "execution_count": 225,
   "id": "dc48a80e-14ea-4509-b585-7b9ded7307ce",
   "metadata": {},
   "outputs": [
    {
     "data": {
      "text/plain": [
       "Index(['연도', '단과대학', '과목번호', '원어여부', '비고', '수강신청유의사항', '평가비율', '교재', '과제내용',\n",
       "       '과제수', '주별강의계획서', '중간고사', '기말고사', '선수과목존재여부', '조별과제존재여부', '시험과제대체여부',\n",
       "       '패논패여부'],\n",
       "      dtype='object')"
      ]
     },
     "execution_count": 225,
     "metadata": {},
     "output_type": "execute_result"
    }
   ],
   "source": [
    "df.columns"
   ]
  },
  {
   "cell_type": "code",
   "execution_count": 226,
   "id": "58877da7-7ce2-4797-8be0-5fe1bbfeec75",
   "metadata": {},
   "outputs": [],
   "source": [
    "final_df = df[['연도', '단과대학', '과목번호', '원어여부', '과제수',\n",
    "               '선수과목존재여부', '조별과제존재여부', '시험과제대체여부', '패논패여부']]"
   ]
  },
  {
   "cell_type": "code",
   "execution_count": 227,
   "id": "037ee7cf-fffa-4be1-b782-27fae6dc5ad3",
   "metadata": {},
   "outputs": [
    {
     "data": {
      "text/plain": [
       "(3483, 9)"
      ]
     },
     "execution_count": 227,
     "metadata": {},
     "output_type": "execute_result"
    }
   ],
   "source": [
    "final_df.shape"
   ]
  },
  {
   "cell_type": "code",
   "execution_count": 232,
   "id": "6db704b4-f24b-4c74-86b3-821682f308ac",
   "metadata": {},
   "outputs": [
    {
     "data": {
      "text/html": [
       "<div>\n",
       "<style scoped>\n",
       "    .dataframe tbody tr th:only-of-type {\n",
       "        vertical-align: middle;\n",
       "    }\n",
       "\n",
       "    .dataframe tbody tr th {\n",
       "        vertical-align: top;\n",
       "    }\n",
       "\n",
       "    .dataframe thead th {\n",
       "        text-align: right;\n",
       "    }\n",
       "</style>\n",
       "<table border=\"1\" class=\"dataframe\">\n",
       "  <thead>\n",
       "    <tr style=\"text-align: right;\">\n",
       "      <th></th>\n",
       "      <th>연도</th>\n",
       "      <th>단과대학</th>\n",
       "      <th>과목번호</th>\n",
       "      <th>원어여부</th>\n",
       "      <th>과제수</th>\n",
       "      <th>선수과목존재여부</th>\n",
       "      <th>조별과제존재여부</th>\n",
       "      <th>시험과제대체여부</th>\n",
       "      <th>패논패여부</th>\n",
       "    </tr>\n",
       "  </thead>\n",
       "  <tbody>\n",
       "    <tr>\n",
       "      <th>0</th>\n",
       "      <td>2022</td>\n",
       "      <td>KU융합과학기술원</td>\n",
       "      <td>3854</td>\n",
       "      <td>영어</td>\n",
       "      <td>1.0</td>\n",
       "      <td>0</td>\n",
       "      <td>0</td>\n",
       "      <td>0</td>\n",
       "      <td>0</td>\n",
       "    </tr>\n",
       "    <tr>\n",
       "      <th>1</th>\n",
       "      <td>2022</td>\n",
       "      <td>KU융합과학기술원</td>\n",
       "      <td>3855</td>\n",
       "      <td>영어</td>\n",
       "      <td>1.0</td>\n",
       "      <td>0</td>\n",
       "      <td>0</td>\n",
       "      <td>0</td>\n",
       "      <td>0</td>\n",
       "    </tr>\n",
       "    <tr>\n",
       "      <th>2</th>\n",
       "      <td>2022</td>\n",
       "      <td>KU융합과학기술원</td>\n",
       "      <td>3856</td>\n",
       "      <td></td>\n",
       "      <td>1.0</td>\n",
       "      <td>0</td>\n",
       "      <td>0</td>\n",
       "      <td>0</td>\n",
       "      <td>0</td>\n",
       "    </tr>\n",
       "    <tr>\n",
       "      <th>3</th>\n",
       "      <td>2022</td>\n",
       "      <td>KU융합과학기술원</td>\n",
       "      <td>3857</td>\n",
       "      <td>영어</td>\n",
       "      <td>1.0</td>\n",
       "      <td>0</td>\n",
       "      <td>0</td>\n",
       "      <td>0</td>\n",
       "      <td>0</td>\n",
       "    </tr>\n",
       "    <tr>\n",
       "      <th>4</th>\n",
       "      <td>2022</td>\n",
       "      <td>KU융합과학기술원</td>\n",
       "      <td>3858</td>\n",
       "      <td></td>\n",
       "      <td>1.0</td>\n",
       "      <td>0</td>\n",
       "      <td>1</td>\n",
       "      <td>1</td>\n",
       "      <td>0</td>\n",
       "    </tr>\n",
       "    <tr>\n",
       "      <th>5</th>\n",
       "      <td>2022</td>\n",
       "      <td>KU융합과학기술원</td>\n",
       "      <td>3859</td>\n",
       "      <td></td>\n",
       "      <td>1.0</td>\n",
       "      <td>0</td>\n",
       "      <td>0</td>\n",
       "      <td>0</td>\n",
       "      <td>0</td>\n",
       "    </tr>\n",
       "    <tr>\n",
       "      <th>6</th>\n",
       "      <td>2022</td>\n",
       "      <td>KU융합과학기술원</td>\n",
       "      <td>3860</td>\n",
       "      <td></td>\n",
       "      <td>1.0</td>\n",
       "      <td>0</td>\n",
       "      <td>0</td>\n",
       "      <td>0</td>\n",
       "      <td>0</td>\n",
       "    </tr>\n",
       "    <tr>\n",
       "      <th>7</th>\n",
       "      <td>2022</td>\n",
       "      <td>KU융합과학기술원</td>\n",
       "      <td>3861</td>\n",
       "      <td>영어</td>\n",
       "      <td>1.0</td>\n",
       "      <td>0</td>\n",
       "      <td>0</td>\n",
       "      <td>0</td>\n",
       "      <td>0</td>\n",
       "    </tr>\n",
       "    <tr>\n",
       "      <th>8</th>\n",
       "      <td>2022</td>\n",
       "      <td>KU융합과학기술원</td>\n",
       "      <td>3862</td>\n",
       "      <td>영어</td>\n",
       "      <td>6.0</td>\n",
       "      <td>0</td>\n",
       "      <td>0</td>\n",
       "      <td>0</td>\n",
       "      <td>0</td>\n",
       "    </tr>\n",
       "    <tr>\n",
       "      <th>9</th>\n",
       "      <td>2022</td>\n",
       "      <td>KU융합과학기술원</td>\n",
       "      <td>3863</td>\n",
       "      <td>영어</td>\n",
       "      <td>4.0</td>\n",
       "      <td>0</td>\n",
       "      <td>0</td>\n",
       "      <td>1</td>\n",
       "      <td>0</td>\n",
       "    </tr>\n",
       "  </tbody>\n",
       "</table>\n",
       "</div>"
      ],
      "text/plain": [
       "     연도       단과대학  과목번호 원어여부  과제수  선수과목존재여부  조별과제존재여부  시험과제대체여부  패논패여부\n",
       "0  2022  KU융합과학기술원  3854   영어  1.0         0         0         0      0\n",
       "1  2022  KU융합과학기술원  3855   영어  1.0         0         0         0      0\n",
       "2  2022  KU융합과학기술원  3856       1.0         0         0         0      0\n",
       "3  2022  KU융합과학기술원  3857   영어  1.0         0         0         0      0\n",
       "4  2022  KU융합과학기술원  3858       1.0         0         1         1      0\n",
       "5  2022  KU융합과학기술원  3859       1.0         0         0         0      0\n",
       "6  2022  KU융합과학기술원  3860       1.0         0         0         0      0\n",
       "7  2022  KU융합과학기술원  3861   영어  1.0         0         0         0      0\n",
       "8  2022  KU융합과학기술원  3862   영어  6.0         0         0         0      0\n",
       "9  2022  KU융합과학기술원  3863   영어  4.0         0         0         1      0"
      ]
     },
     "execution_count": 232,
     "metadata": {},
     "output_type": "execute_result"
    }
   ],
   "source": [
    "final_df.head(10)"
   ]
  },
  {
   "cell_type": "code",
   "execution_count": 233,
   "id": "ebb80571-106f-42cb-ba4c-c8de70507668",
   "metadata": {},
   "outputs": [],
   "source": [
    "final_df.to_csv('강의계획서_전선_전처리.csv',index=False,encoding='cp949')"
   ]
  },
  {
   "cell_type": "markdown",
   "id": "1916987f-ca41-40d0-a264-52a54d4ddfbb",
   "metadata": {},
   "source": [
    "## EDA"
   ]
  },
  {
   "cell_type": "code",
   "execution_count": 246,
   "id": "35c98577-9f63-4951-9d13-f5b2e87bdd81",
   "metadata": {},
   "outputs": [
    {
     "data": {
      "image/png": "[encoded data removed]",
      "text/plain": [
       "<Figure size 640x480 with 1 Axes>"
      ]
     },
     "metadata": {},
     "output_type": "display_data"
    }
   ],
   "source": [
    "plt.hist(df.과제수,bins=20)\n",
    "plt.show()"
   ]
  },
  {
   "cell_type": "code",
   "execution_count": 238,
   "id": "5c9ef8ee-c252-430d-82fd-abafd8b75a2d",
   "metadata": {},
   "outputs": [
    {
     "data": {
      "text/plain": [
       "원어여부\n",
       "       2955\n",
       "영어      522\n",
       "중국어       6\n",
       "Name: count, dtype: int64"
      ]
     },
     "execution_count": 238,
     "metadata": {},
     "output_type": "execute_result"
    }
   ],
   "source": [
    "df.원어여부.value_counts()"
   ]
  },
  {
   "cell_type": "code",
   "execution_count": 234,
   "id": "cb420e3f-3a04-4220-a6aa-adc832642e8e",
   "metadata": {},
   "outputs": [
    {
     "data": {
      "text/plain": [
       "선수과목존재여부\n",
       "0    3315\n",
       "1     168\n",
       "Name: count, dtype: int64"
      ]
     },
     "execution_count": 234,
     "metadata": {},
     "output_type": "execute_result"
    }
   ],
   "source": [
    "df.선수과목존재여부.value_counts()"
   ]
  },
  {
   "cell_type": "code",
   "execution_count": 235,
   "id": "11e06caf-5f29-4075-9cf0-b758bbde7de9",
   "metadata": {},
   "outputs": [
    {
     "data": {
      "text/plain": [
       "조별과제존재여부\n",
       "0    3319\n",
       "1     164\n",
       "Name: count, dtype: int64"
      ]
     },
     "execution_count": 235,
     "metadata": {},
     "output_type": "execute_result"
    }
   ],
   "source": [
    "df.조별과제존재여부.value_counts()"
   ]
  },
  {
   "cell_type": "code",
   "execution_count": 236,
   "id": "e09cf9b1-d9e6-44e3-aafe-170dacf7c1fb",
   "metadata": {},
   "outputs": [
    {
     "data": {
      "text/plain": [
       "시험과제대체여부\n",
       "0    2878\n",
       "1     605\n",
       "Name: count, dtype: int64"
      ]
     },
     "execution_count": 236,
     "metadata": {},
     "output_type": "execute_result"
    }
   ],
   "source": [
    "df.시험과제대체여부.value_counts()"
   ]
  },
  {
   "cell_type": "code",
   "execution_count": 237,
   "id": "17568403-c5ca-4d05-8048-4874cf87185b",
   "metadata": {},
   "outputs": [
    {
     "data": {
      "text/plain": [
       "패논패여부\n",
       "0    3477\n",
       "1       6\n",
       "Name: count, dtype: int64"
      ]
     },
     "execution_count": 237,
     "metadata": {},
     "output_type": "execute_result"
    }
   ],
   "source": [
    "df.패논패여부.value_counts()"
   ]
  }
 ],
 "metadata": {
  "kernelspec": {
   "display_name": "Python 3 (ipykernel)",
   "language": "python",
   "name": "python3"
  },
  "language_info": {
   "codemirror_mode": {
    "name": "ipython",
    "version": 3
   },
   "file_extension": ".py",
   "mimetype": "text/x-python",
   "name": "python",
   "nbconvert_exporter": "python",
   "pygments_lexer": "ipython3",
   "version": "3.10.11"
  }
 },
 "nbformat": 4,
 "nbformat_minor": 5
}
