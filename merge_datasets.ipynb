{
 "cells": [
  {
   "cell_type": "code",
   "execution_count": 38,
   "id": "224f0b9f-4d77-4908-8647-291f97e6924b",
   "metadata": {},
   "outputs": [],
   "source": [
    "import pandas as pd\n",
    "import numpy as np\n",
    "import openpyxl\n",
    "import ast"
   ]
  },
  {
   "cell_type": "markdown",
   "id": "a0573df1-8064-4211-bfd3-4179e786b5c1",
   "metadata": {},
   "source": [
    "### 데이터셋 로드"
   ]
  },
  {
   "cell_type": "code",
   "execution_count": 39,
   "id": "03199794-e65d-4c77-917e-beff9dfff485",
   "metadata": {},
   "outputs": [],
   "source": [
    "major_df = pd.read_csv('df_jeon 오류 수정.csv')\n",
    "liberal_high_df = pd.read_csv('df_sim_high 오류 수정.csv')\n",
    "liberal_low_df = pd.read_csv('df_sim_low 오류 수정.csv')\n",
    "syllabus_major_df = pd.read_csv('강의계획서_전선.csv',encoding='cp949')\n",
    "syllabus_liberal_df = pd.read_csv('강의계획서_심교.csv',encoding='cp949')"
   ]
  },
  {
   "cell_type": "code",
   "execution_count": 40,
   "id": "128d74ab-f170-41e7-8030-03c458650483",
   "metadata": {},
   "outputs": [
    {
     "name": "stderr",
     "output_type": "stream",
     "text": [
      "C:\\Users\\gustj\\AppData\\Local\\Programs\\Python\\Python310\\lib\\site-packages\\openpyxl\\styles\\stylesheet.py:226: UserWarning: Workbook contains no default style, apply openpyxl's default\n",
      "  warn(\"Workbook contains no default style, apply openpyxl's default\")\n",
      "C:\\Users\\gustj\\AppData\\Local\\Programs\\Python\\Python310\\lib\\site-packages\\openpyxl\\styles\\stylesheet.py:226: UserWarning: Workbook contains no default style, apply openpyxl's default\n",
      "  warn(\"Workbook contains no default style, apply openpyxl's default\")\n",
      "C:\\Users\\gustj\\AppData\\Local\\Programs\\Python\\Python310\\lib\\site-packages\\openpyxl\\styles\\stylesheet.py:226: UserWarning: Workbook contains no default style, apply openpyxl's default\n",
      "  warn(\"Workbook contains no default style, apply openpyxl's default\")\n"
     ]
    }
   ],
   "source": [
    "timetable_2022 = pd.read_excel('종합강의시간표내역_2022.xlsx')\n",
    "timetable_2023 = pd.read_excel('종합강의시간표내역_2023.xlsx')\n",
    "timetable_2024 = pd.read_excel('종합강의시간표내역_2024.xlsx')"
   ]
  },
  {
   "cell_type": "markdown",
   "id": "ae3472fe-17ae-4a34-8edf-0f3ba62c4c73",
   "metadata": {},
   "source": [
    "종합강의시간표내역에서는 필요한 열만 가져옵니다."
   ]
  },
  {
   "cell_type": "code",
   "execution_count": 41,
   "id": "212146d0-e74f-4705-a399-1817157923d1",
   "metadata": {},
   "outputs": [
    {
     "data": {
      "text/plain": [
       "Index(['No', '학년', '학수번호', '과목분야', '교과번호', '이수\\n구분', '과목\\n번호', '교과목명',\n",
       "       '영문교과목명', '강의\\n계획서', '비고', '학점', '시간', '수강\\n학부(과)/전공', '제청\\n학부(과)/전공',\n",
       "       '개설\\n학부(과)/전공', '강의요시/강의실', '담당교수', '강의비율\\r\\n대면:녹화:실시간', '수업\\r\\n유형',\n",
       "       '캡스톤\\r\\n(ABF제\\r\\n적용)', 'NCS\\r\\n(ABF제\\r\\n적용)', '패스\\n과목', '원어\\n강의',\n",
       "       '원어\\n유형', '현재\\n인원', '학부\\n인원', '대학원\\n인원', '제한\\n인원', '과목\\n해설', '강의\\n유형',\n",
       "       '강의\\n종류', '영역', '합반'],\n",
       "      dtype='object')"
      ]
     },
     "execution_count": 41,
     "metadata": {},
     "output_type": "execute_result"
    }
   ],
   "source": [
    "timetable_2022.columns"
   ]
  },
  {
   "cell_type": "code",
   "execution_count": 42,
   "id": "9ea02983-1f87-4ebb-9303-7c07b1410de2",
   "metadata": {},
   "outputs": [],
   "source": [
    "timetable_2022 = timetable_2022[['담당교수','과목\\n번호','학수번호','캡스톤\\r\\n(ABF제\\r\\n적용)','NCS\\r\\n(ABF제\\r\\n적용)']]\n",
    "timetable_2023 = timetable_2023[['담당교수','과목\\n번호','학수번호','캡스톤\\r\\n(ABF제\\r\\n적용)','NCS\\r\\n(ABF제\\r\\n적용)']]\n",
    "timetable_2024 = timetable_2024[['담당교수','과목\\n번호','학수번호','캡스톤\\r\\n(ABF제\\r\\n적용)','NCS\\r\\n(ABF제\\r\\n적용)']]"
   ]
  },
  {
   "cell_type": "code",
   "execution_count": 43,
   "id": "1c427131-e56e-4b15-b73a-389cc978778b",
   "metadata": {},
   "outputs": [],
   "source": [
    "timetable_2022.rename(columns={'과목\\n번호':'과목번호','캡스톤\\r\\n(ABF제\\r\\n적용)':'캡스톤','NCS\\r\\n(ABF제\\r\\n적용)':'NCS'},inplace=True)\n",
    "timetable_2023.rename(columns={'과목\\n번호':'과목번호','캡스톤\\r\\n(ABF제\\r\\n적용)':'캡스톤','NCS\\r\\n(ABF제\\r\\n적용)':'NCS'},inplace=True)\n",
    "timetable_2024.rename(columns={'과목\\n번호':'과목번호','캡스톤\\r\\n(ABF제\\r\\n적용)':'캡스톤','NCS\\r\\n(ABF제\\r\\n적용)':'NCS'},inplace=True)"
   ]
  },
  {
   "cell_type": "code",
   "execution_count": 44,
   "id": "c8d6d893-7b62-4dae-9113-cae1c850959f",
   "metadata": {},
   "outputs": [
    {
     "data": {
      "text/plain": [
       "Index(['담당교수', '과목번호', '학수번호', '캡스톤', 'NCS'], dtype='object')"
      ]
     },
     "execution_count": 44,
     "metadata": {},
     "output_type": "execute_result"
    }
   ],
   "source": [
    "timetable_2022.columns"
   ]
  },
  {
   "cell_type": "code",
   "execution_count": 45,
   "id": "81eacf14-5ff3-4129-8d9c-ae898874e41a",
   "metadata": {},
   "outputs": [],
   "source": [
    "timetable_2022['연도'] = 2022\n",
    "timetable_2023['연도'] = 2023\n",
    "timetable_2024['연도'] = 2024"
   ]
  },
  {
   "cell_type": "markdown",
   "id": "56e4e279-0ff0-4aec-af93-204a91dd5fab",
   "metadata": {},
   "source": [
    "### 결측치 처리"
   ]
  },
  {
   "cell_type": "code",
   "execution_count": 46,
   "id": "85ccdc37-8e78-4ca1-8905-40708e84b3d0",
   "metadata": {},
   "outputs": [
    {
     "data": {
      "text/plain": [
       "Index(['연도', '단과대학', '과목번호', '원어여부', '비고', '수강신청유의사항', '과제비율', '교재', '과제내용',\n",
       "       '과제수', '주별강의계획서', '중간고사', '기말고사'],\n",
       "      dtype='object')"
      ]
     },
     "execution_count": 46,
     "metadata": {},
     "output_type": "execute_result"
    }
   ],
   "source": [
    "syllabus_major_df.columns"
   ]
  },
  {
   "cell_type": "code",
   "execution_count": 47,
   "id": "210078d4-76e7-4ad0-a4c6-ec13c8862c2d",
   "metadata": {},
   "outputs": [],
   "source": [
    "# 딕셔너리로 저장된 데이터를 str에서 딕셔너리로 변환\n",
    "def convert_to_dictionary(x):\n",
    "    try:\n",
    "        return ast.literal_eval(x)\n",
    "    except Exception:\n",
    "        return x"
   ]
  },
  {
   "cell_type": "code",
   "execution_count": 48,
   "id": "9fe864e9-da89-42bb-a053-de30552138fb",
   "metadata": {},
   "outputs": [
    {
     "name": "stdout",
     "output_type": "stream",
     "text": [
      "2022년 과목번호: 3877\n",
      "2022년 과목번호: 3381\n",
      "2023년 과목번호: 4315\n"
     ]
    }
   ],
   "source": [
    "# 평가비율이 기재되지 않은 경우 검색\n",
    "syllabus_major_df['과제비율'] = syllabus_major_df['과제비율'].apply(convert_to_dictionary)\n",
    "for i in range(len(syllabus_major_df)):\n",
    "    try:\n",
    "        syllabus_major_df['과제비율'][i].keys()\n",
    "        pass\n",
    "    except:\n",
    "        print(f\"{syllabus_major_df.loc[i,'연도']}년 과목번호: {syllabus_major_df.loc[i,'과목번호']}\")"
   ]
  },
  {
   "cell_type": "markdown",
   "id": "92abb85d-1252-4010-9ae3-125deec9da49",
   "metadata": {},
   "source": [
    "- 2022년 과목번호: 3877  =>  ICT서비스제작기획\n",
    "- 2022년 과목번호: 3381  =>  스킨케어연구\n",
    "- 2023년 과목번호: 4315  =>  DESIGN BUSINESS"
   ]
  },
  {
   "cell_type": "code",
   "execution_count": 49,
   "id": "c49b37e9-4516-4109-9824-8bb2e0064703",
   "metadata": {},
   "outputs": [
    {
     "data": {
      "text/html": [
       "<div>\n",
       "<style scoped>\n",
       "    .dataframe tbody tr th:only-of-type {\n",
       "        vertical-align: middle;\n",
       "    }\n",
       "\n",
       "    .dataframe tbody tr th {\n",
       "        vertical-align: top;\n",
       "    }\n",
       "\n",
       "    .dataframe thead th {\n",
       "        text-align: right;\n",
       "    }\n",
       "</style>\n",
       "<table border=\"1\" class=\"dataframe\">\n",
       "  <thead>\n",
       "    <tr style=\"text-align: right;\">\n",
       "      <th></th>\n",
       "      <th>연도</th>\n",
       "      <th>단과대학</th>\n",
       "      <th>과목번호</th>\n",
       "      <th>원어여부</th>\n",
       "      <th>비고</th>\n",
       "      <th>수강신청유의사항</th>\n",
       "      <th>과제비율</th>\n",
       "      <th>교재</th>\n",
       "      <th>과제내용</th>\n",
       "      <th>과제수</th>\n",
       "      <th>주별강의계획서</th>\n",
       "      <th>중간고사</th>\n",
       "      <th>기말고사</th>\n",
       "    </tr>\n",
       "  </thead>\n",
       "  <tbody>\n",
       "    <tr>\n",
       "      <th>21</th>\n",
       "      <td>2022</td>\n",
       "      <td>KU융합과학기술원</td>\n",
       "      <td>3877</td>\n",
       "      <td></td>\n",
       "      <td>*스마트ICT융합공학과 재학생 및 다,부전공생 및 지교B 타과생만 수강가능 * 다,...</td>\n",
       "      <td>NaN</td>\n",
       "      <td>NaN</td>\n",
       "      <td>NaN</td>\n",
       "      <td>NaN</td>\n",
       "      <td>NaN</td>\n",
       "      <td>NaN</td>\n",
       "      <td>NaN</td>\n",
       "      <td>NaN</td>\n",
       "    </tr>\n",
       "  </tbody>\n",
       "</table>\n",
       "</div>"
      ],
      "text/plain": [
       "      연도       단과대학  과목번호 원어여부  \\\n",
       "21  2022  KU융합과학기술원  3877        \n",
       "\n",
       "                                                   비고 수강신청유의사항 과제비율   교재 과제내용  \\\n",
       "21  *스마트ICT융합공학과 재학생 및 다,부전공생 및 지교B 타과생만 수강가능 * 다,...      NaN  NaN  NaN  NaN   \n",
       "\n",
       "    과제수 주별강의계획서 중간고사 기말고사  \n",
       "21  NaN     NaN  NaN  NaN  "
      ]
     },
     "execution_count": 49,
     "metadata": {},
     "output_type": "execute_result"
    }
   ],
   "source": [
    "syllabus_major_df[(syllabus_major_df['과목번호']==3877)&(syllabus_major_df['연도']==2022)]"
   ]
  },
  {
   "cell_type": "code",
   "execution_count": 50,
   "id": "438a463e-4e62-43cf-9ad5-059ea7070653",
   "metadata": {},
   "outputs": [
    {
     "data": {
      "text/html": [
       "<div>\n",
       "<style scoped>\n",
       "    .dataframe tbody tr th:only-of-type {\n",
       "        vertical-align: middle;\n",
       "    }\n",
       "\n",
       "    .dataframe tbody tr th {\n",
       "        vertical-align: top;\n",
       "    }\n",
       "\n",
       "    .dataframe thead th {\n",
       "        text-align: right;\n",
       "    }\n",
       "</style>\n",
       "<table border=\"1\" class=\"dataframe\">\n",
       "  <thead>\n",
       "    <tr style=\"text-align: right;\">\n",
       "      <th></th>\n",
       "      <th>연도</th>\n",
       "      <th>단과대학</th>\n",
       "      <th>과목번호</th>\n",
       "      <th>원어여부</th>\n",
       "      <th>비고</th>\n",
       "      <th>수강신청유의사항</th>\n",
       "      <th>과제비율</th>\n",
       "      <th>교재</th>\n",
       "      <th>과제내용</th>\n",
       "      <th>과제수</th>\n",
       "      <th>주별강의계획서</th>\n",
       "      <th>중간고사</th>\n",
       "      <th>기말고사</th>\n",
       "    </tr>\n",
       "  </thead>\n",
       "  <tbody>\n",
       "    <tr>\n",
       "      <th>362</th>\n",
       "      <td>2022</td>\n",
       "      <td>공과대학</td>\n",
       "      <td>3381</td>\n",
       "      <td></td>\n",
       "      <td>1. K뷰티산업융합학과 재학생만 수강 가능</td>\n",
       "      <td>NaN</td>\n",
       "      <td>NaN</td>\n",
       "      <td>NaN</td>\n",
       "      <td>NaN</td>\n",
       "      <td>NaN</td>\n",
       "      <td>NaN</td>\n",
       "      <td>NaN</td>\n",
       "      <td>NaN</td>\n",
       "    </tr>\n",
       "  </tbody>\n",
       "</table>\n",
       "</div>"
      ],
      "text/plain": [
       "       연도  단과대학  과목번호 원어여부                       비고 수강신청유의사항 과제비율   교재 과제내용  \\\n",
       "362  2022  공과대학  3381       1. K뷰티산업융합학과 재학생만 수강 가능      NaN  NaN  NaN  NaN   \n",
       "\n",
       "     과제수 주별강의계획서 중간고사 기말고사  \n",
       "362  NaN     NaN  NaN  NaN  "
      ]
     },
     "execution_count": 50,
     "metadata": {},
     "output_type": "execute_result"
    }
   ],
   "source": [
    "syllabus_major_df[(syllabus_major_df['과목번호']==3381)&(syllabus_major_df['연도']==2022)]"
   ]
  },
  {
   "cell_type": "code",
   "execution_count": 51,
   "id": "a7f8159f-e2b6-419c-812b-9d69719a7852",
   "metadata": {},
   "outputs": [
    {
     "data": {
      "text/html": [
       "<div>\n",
       "<style scoped>\n",
       "    .dataframe tbody tr th:only-of-type {\n",
       "        vertical-align: middle;\n",
       "    }\n",
       "\n",
       "    .dataframe tbody tr th {\n",
       "        vertical-align: top;\n",
       "    }\n",
       "\n",
       "    .dataframe thead th {\n",
       "        text-align: right;\n",
       "    }\n",
       "</style>\n",
       "<table border=\"1\" class=\"dataframe\">\n",
       "  <thead>\n",
       "    <tr style=\"text-align: right;\">\n",
       "      <th></th>\n",
       "      <th>연도</th>\n",
       "      <th>단과대학</th>\n",
       "      <th>과목번호</th>\n",
       "      <th>원어여부</th>\n",
       "      <th>비고</th>\n",
       "      <th>수강신청유의사항</th>\n",
       "      <th>과제비율</th>\n",
       "      <th>교재</th>\n",
       "      <th>과제내용</th>\n",
       "      <th>과제수</th>\n",
       "      <th>주별강의계획서</th>\n",
       "      <th>중간고사</th>\n",
       "      <th>기말고사</th>\n",
       "    </tr>\n",
       "  </thead>\n",
       "  <tbody>\n",
       "    <tr>\n",
       "      <th>2277</th>\n",
       "      <td>2023</td>\n",
       "      <td>예술디자인대학</td>\n",
       "      <td>4315</td>\n",
       "      <td>영어</td>\n",
       "      <td></td>\n",
       "      <td>NaN</td>\n",
       "      <td>NaN</td>\n",
       "      <td>NaN</td>\n",
       "      <td>NaN</td>\n",
       "      <td>NaN</td>\n",
       "      <td>NaN</td>\n",
       "      <td>NaN</td>\n",
       "      <td>NaN</td>\n",
       "    </tr>\n",
       "  </tbody>\n",
       "</table>\n",
       "</div>"
      ],
      "text/plain": [
       "        연도     단과대학  과목번호 원어여부 비고 수강신청유의사항 과제비율   교재 과제내용  과제수 주별강의계획서 중간고사  \\\n",
       "2277  2023  예술디자인대학  4315   영어         NaN  NaN  NaN  NaN  NaN     NaN  NaN   \n",
       "\n",
       "     기말고사  \n",
       "2277  NaN  "
      ]
     },
     "execution_count": 51,
     "metadata": {},
     "output_type": "execute_result"
    }
   ],
   "source": [
    "syllabus_major_df[(syllabus_major_df['과목번호']==4315)&(syllabus_major_df['연도']==2023)]"
   ]
  },
  {
   "cell_type": "markdown",
   "id": "d0a2a6b4-164c-4ba6-bf29-fa6a7f47a069",
   "metadata": {},
   "source": [
    "- ICT서비스제작기획, 스킨케어연구 => 에브리타임에는 강의계획서가 존재해 확인 후 수기로 입력  \n",
    "- DESIGN BUSINESS => 에브리타임에도 강의계획서가 존재하지 않고, 경쟁률이 현저히 낮아 행 삭제  "
   ]
  },
  {
   "cell_type": "markdown",
   "id": "5aa4e11e-7fb5-40d2-a0a1-dafd4adf80f4",
   "metadata": {},
   "source": [
    "### 데이터셋 병합"
   ]
  },
  {
   "cell_type": "code",
   "execution_count": 52,
   "id": "9bf1053d-bf9e-4c87-98e8-59782f650c2c",
   "metadata": {},
   "outputs": [],
   "source": [
    "major_df.rename(columns={'년도':'연도'},inplace=True)\n",
    "liberal_high_df.rename(columns={'년도':'연도'},inplace=True)\n",
    "liberal_low_df.rename(columns={'년도':'연도'},inplace=True)"
   ]
  },
  {
   "cell_type": "code",
   "execution_count": 53,
   "id": "97298886-0f13-4c30-ac3b-7897342af356",
   "metadata": {},
   "outputs": [],
   "source": [
    "timetable_df = pd.concat([timetable_2022,timetable_2023,timetable_2024],axis=0)"
   ]
  },
  {
   "cell_type": "code",
   "execution_count": 54,
   "id": "2641a88b-400f-4b7b-a51d-539a720727df",
   "metadata": {},
   "outputs": [],
   "source": [
    "final_major_df = pd.merge(major_df, syllabus_major_df, how='left', on=['연도','과목번호'])\n",
    "final_major_df = pd.merge(final_major_df, timetable_df, how='left', on=['연도','과목번호'])"
   ]
  },
  {
   "cell_type": "code",
   "execution_count": 55,
   "id": "30012660-d9db-4a39-8cce-6ecc097982ea",
   "metadata": {},
   "outputs": [
    {
     "data": {
      "text/plain": [
       "(3406, 74)"
      ]
     },
     "execution_count": 55,
     "metadata": {},
     "output_type": "execute_result"
    }
   ],
   "source": [
    "final_major_df.shape"
   ]
  },
  {
   "cell_type": "code",
   "execution_count": 56,
   "id": "3e5962d9-4659-4627-85da-79e989f68b00",
   "metadata": {},
   "outputs": [],
   "source": [
    "final_liberal_high_df = pd.merge(liberal_high_df, syllabus_liberal_df, how='left', on=['연도','과목번호'])\n",
    "final_liberal_high_df = pd.merge(final_liberal_high_df, timetable_df, how='left', on=['연도','과목번호'])"
   ]
  },
  {
   "cell_type": "code",
   "execution_count": 57,
   "id": "f5d85568-a148-40b8-b945-b8dcd3106c7c",
   "metadata": {},
   "outputs": [
    {
     "data": {
      "text/plain": [
       "(569, 42)"
      ]
     },
     "execution_count": 57,
     "metadata": {},
     "output_type": "execute_result"
    }
   ],
   "source": [
    "final_liberal_high_df.shape"
   ]
  },
  {
   "cell_type": "code",
   "execution_count": 58,
   "id": "5f8d081e-59fe-4c64-b501-ccd97b7b9561",
   "metadata": {},
   "outputs": [],
   "source": [
    "final_liberal_low_df = pd.merge(liberal_low_df, syllabus_liberal_df, how='left', on=['연도','과목번호'])\n",
    "final_liberal_low_df = pd.merge(final_liberal_low_df, timetable_df, how='left', on=['연도','과목번호'])"
   ]
  },
  {
   "cell_type": "code",
   "execution_count": 59,
   "id": "3808ffca-1d67-471e-8e03-5abd579f1b53",
   "metadata": {},
   "outputs": [
    {
     "data": {
      "text/plain": [
       "(569, 42)"
      ]
     },
     "execution_count": 59,
     "metadata": {},
     "output_type": "execute_result"
    }
   ],
   "source": [
    "final_liberal_low_df.shape"
   ]
  },
  {
   "cell_type": "markdown",
   "id": "394388d6-fedf-46f5-bb37-2dc10cfebc7b",
   "metadata": {},
   "source": [
    "교양과목에는 캡스톤 과목과 NCS 과목이 없으므로 삭제해줍니다."
   ]
  },
  {
   "cell_type": "code",
   "execution_count": 60,
   "id": "9c8045cf-b059-4162-a278-2d8bfde93922",
   "metadata": {},
   "outputs": [],
   "source": [
    "final_liberal_high_df.drop(columns=['캡스톤','NCS'],inplace=True)\n",
    "final_liberal_low_df.drop(columns=['캡스톤','NCS'],inplace=True)"
   ]
  },
  {
   "cell_type": "markdown",
   "id": "6f50e935-58e9-4a86-b5cd-c9ee9bde5492",
   "metadata": {},
   "source": [
    "### 데이터 내보내기"
   ]
  },
  {
   "cell_type": "code",
   "execution_count": 61,
   "id": "4d555bd2-35fe-4e09-9866-7b96e3cddb05",
   "metadata": {},
   "outputs": [],
   "source": [
    "final_major_df.to_csv('전선_1202.csv',index=False,encoding='cp949')\n",
    "final_liberal_high_df.to_csv('심교_고학년_1202.csv',index=False,encoding='cp949')\n",
    "final_liberal_low_df.to_csv('심교_저학년_1202.csv',index=False,encoding='cp949')"
   ]
  }
 ],
 "metadata": {
  "kernelspec": {
   "display_name": "Python 3 (ipykernel)",
   "language": "python",
   "name": "python3"
  },
  "language_info": {
   "codemirror_mode": {
    "name": "ipython",
    "version": 3
   },
   "file_extension": ".py",
   "mimetype": "text/x-python",
   "name": "python",
   "nbconvert_exporter": "python",
   "pygments_lexer": "ipython3",
   "version": "3.10.11"
  }
 },
 "nbformat": 4,
 "nbformat_minor": 5
}
